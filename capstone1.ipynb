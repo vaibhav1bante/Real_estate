{
 "cells": [
  {
   "cell_type": "code",
   "execution_count": 1,
   "id": "aa99e1ae-e6a3-404c-b026-af5d3ec6b2f6",
   "metadata": {},
   "outputs": [],
   "source": [
    "import pandas as pd\n",
    "import numpy as np\n",
    "import matplotlib.pyplot as plt\n",
    "import seaborn as sns\n",
    "import warnings\n",
    "warnings.filterwarnings('ignore')"
   ]
  },
  {
   "cell_type": "code",
   "execution_count": 2,
   "id": "f8040131-d9b1-4f1c-87bf-9c3092f207da",
   "metadata": {},
   "outputs": [],
   "source": [
    "df_train=pd.read_csv('trainreal.csv')\n",
    "df_test=pd.read_csv('testreal.csv')"
   ]
  },
  {
   "cell_type": "code",
   "execution_count": 3,
   "id": "0dfb7840-ef20-42d3-ba3a-25d4bccc9adc",
   "metadata": {},
   "outputs": [
    {
     "data": {
      "text/html": [
       "<div>\n",
       "<style scoped>\n",
       "    .dataframe tbody tr th:only-of-type {\n",
       "        vertical-align: middle;\n",
       "    }\n",
       "\n",
       "    .dataframe tbody tr th {\n",
       "        vertical-align: top;\n",
       "    }\n",
       "\n",
       "    .dataframe thead th {\n",
       "        text-align: right;\n",
       "    }\n",
       "</style>\n",
       "<table border=\"1\" class=\"dataframe\">\n",
       "  <thead>\n",
       "    <tr style=\"text-align: right;\">\n",
       "      <th></th>\n",
       "      <th>UID</th>\n",
       "      <th>BLOCKID</th>\n",
       "      <th>SUMLEVEL</th>\n",
       "      <th>COUNTYID</th>\n",
       "      <th>STATEID</th>\n",
       "      <th>state</th>\n",
       "      <th>state_ab</th>\n",
       "      <th>city</th>\n",
       "      <th>place</th>\n",
       "      <th>type</th>\n",
       "      <th>...</th>\n",
       "      <th>female_age_mean</th>\n",
       "      <th>female_age_median</th>\n",
       "      <th>female_age_stdev</th>\n",
       "      <th>female_age_sample_weight</th>\n",
       "      <th>female_age_samples</th>\n",
       "      <th>pct_own</th>\n",
       "      <th>married</th>\n",
       "      <th>married_snp</th>\n",
       "      <th>separated</th>\n",
       "      <th>divorced</th>\n",
       "    </tr>\n",
       "  </thead>\n",
       "  <tbody>\n",
       "    <tr>\n",
       "      <th>0</th>\n",
       "      <td>267822</td>\n",
       "      <td>NaN</td>\n",
       "      <td>140</td>\n",
       "      <td>53</td>\n",
       "      <td>36</td>\n",
       "      <td>New York</td>\n",
       "      <td>NY</td>\n",
       "      <td>Hamilton</td>\n",
       "      <td>Hamilton</td>\n",
       "      <td>City</td>\n",
       "      <td>...</td>\n",
       "      <td>44.48629</td>\n",
       "      <td>45.33333</td>\n",
       "      <td>22.51276</td>\n",
       "      <td>685.33845</td>\n",
       "      <td>2618.0</td>\n",
       "      <td>0.79046</td>\n",
       "      <td>0.57851</td>\n",
       "      <td>0.01882</td>\n",
       "      <td>0.01240</td>\n",
       "      <td>0.08770</td>\n",
       "    </tr>\n",
       "    <tr>\n",
       "      <th>1</th>\n",
       "      <td>246444</td>\n",
       "      <td>NaN</td>\n",
       "      <td>140</td>\n",
       "      <td>141</td>\n",
       "      <td>18</td>\n",
       "      <td>Indiana</td>\n",
       "      <td>IN</td>\n",
       "      <td>South Bend</td>\n",
       "      <td>Roseland</td>\n",
       "      <td>City</td>\n",
       "      <td>...</td>\n",
       "      <td>36.48391</td>\n",
       "      <td>37.58333</td>\n",
       "      <td>23.43353</td>\n",
       "      <td>267.23367</td>\n",
       "      <td>1284.0</td>\n",
       "      <td>0.52483</td>\n",
       "      <td>0.34886</td>\n",
       "      <td>0.01426</td>\n",
       "      <td>0.01426</td>\n",
       "      <td>0.09030</td>\n",
       "    </tr>\n",
       "    <tr>\n",
       "      <th>2</th>\n",
       "      <td>245683</td>\n",
       "      <td>NaN</td>\n",
       "      <td>140</td>\n",
       "      <td>63</td>\n",
       "      <td>18</td>\n",
       "      <td>Indiana</td>\n",
       "      <td>IN</td>\n",
       "      <td>Danville</td>\n",
       "      <td>Danville</td>\n",
       "      <td>City</td>\n",
       "      <td>...</td>\n",
       "      <td>42.15810</td>\n",
       "      <td>42.83333</td>\n",
       "      <td>23.94119</td>\n",
       "      <td>707.01963</td>\n",
       "      <td>3238.0</td>\n",
       "      <td>0.85331</td>\n",
       "      <td>0.64745</td>\n",
       "      <td>0.02830</td>\n",
       "      <td>0.01607</td>\n",
       "      <td>0.10657</td>\n",
       "    </tr>\n",
       "    <tr>\n",
       "      <th>3</th>\n",
       "      <td>279653</td>\n",
       "      <td>NaN</td>\n",
       "      <td>140</td>\n",
       "      <td>127</td>\n",
       "      <td>72</td>\n",
       "      <td>Puerto Rico</td>\n",
       "      <td>PR</td>\n",
       "      <td>San Juan</td>\n",
       "      <td>Guaynabo</td>\n",
       "      <td>Urban</td>\n",
       "      <td>...</td>\n",
       "      <td>47.77526</td>\n",
       "      <td>50.58333</td>\n",
       "      <td>24.32015</td>\n",
       "      <td>362.20193</td>\n",
       "      <td>1559.0</td>\n",
       "      <td>0.65037</td>\n",
       "      <td>0.47257</td>\n",
       "      <td>0.02021</td>\n",
       "      <td>0.02021</td>\n",
       "      <td>0.10106</td>\n",
       "    </tr>\n",
       "    <tr>\n",
       "      <th>4</th>\n",
       "      <td>247218</td>\n",
       "      <td>NaN</td>\n",
       "      <td>140</td>\n",
       "      <td>161</td>\n",
       "      <td>20</td>\n",
       "      <td>Kansas</td>\n",
       "      <td>KS</td>\n",
       "      <td>Manhattan</td>\n",
       "      <td>Manhattan City</td>\n",
       "      <td>City</td>\n",
       "      <td>...</td>\n",
       "      <td>24.17693</td>\n",
       "      <td>21.58333</td>\n",
       "      <td>11.10484</td>\n",
       "      <td>1854.48652</td>\n",
       "      <td>3051.0</td>\n",
       "      <td>0.13046</td>\n",
       "      <td>0.12356</td>\n",
       "      <td>0.00000</td>\n",
       "      <td>0.00000</td>\n",
       "      <td>0.03109</td>\n",
       "    </tr>\n",
       "  </tbody>\n",
       "</table>\n",
       "<p>5 rows × 80 columns</p>\n",
       "</div>"
      ],
      "text/plain": [
       "      UID  BLOCKID  SUMLEVEL  COUNTYID  STATEID        state state_ab  \\\n",
       "0  267822      NaN       140        53       36     New York       NY   \n",
       "1  246444      NaN       140       141       18      Indiana       IN   \n",
       "2  245683      NaN       140        63       18      Indiana       IN   \n",
       "3  279653      NaN       140       127       72  Puerto Rico       PR   \n",
       "4  247218      NaN       140       161       20       Kansas       KS   \n",
       "\n",
       "         city           place   type  ... female_age_mean  female_age_median  \\\n",
       "0    Hamilton        Hamilton   City  ...        44.48629           45.33333   \n",
       "1  South Bend        Roseland   City  ...        36.48391           37.58333   \n",
       "2    Danville        Danville   City  ...        42.15810           42.83333   \n",
       "3    San Juan        Guaynabo  Urban  ...        47.77526           50.58333   \n",
       "4   Manhattan  Manhattan City   City  ...        24.17693           21.58333   \n",
       "\n",
       "   female_age_stdev  female_age_sample_weight  female_age_samples  pct_own  \\\n",
       "0          22.51276                 685.33845              2618.0  0.79046   \n",
       "1          23.43353                 267.23367              1284.0  0.52483   \n",
       "2          23.94119                 707.01963              3238.0  0.85331   \n",
       "3          24.32015                 362.20193              1559.0  0.65037   \n",
       "4          11.10484                1854.48652              3051.0  0.13046   \n",
       "\n",
       "   married  married_snp  separated  divorced  \n",
       "0  0.57851      0.01882    0.01240   0.08770  \n",
       "1  0.34886      0.01426    0.01426   0.09030  \n",
       "2  0.64745      0.02830    0.01607   0.10657  \n",
       "3  0.47257      0.02021    0.02021   0.10106  \n",
       "4  0.12356      0.00000    0.00000   0.03109  \n",
       "\n",
       "[5 rows x 80 columns]"
      ]
     },
     "execution_count": 3,
     "metadata": {},
     "output_type": "execute_result"
    }
   ],
   "source": [
    "df_train.head()"
   ]
  },
  {
   "cell_type": "code",
   "execution_count": 4,
   "id": "522d943d-f298-493a-985f-b65e6dec47d2",
   "metadata": {},
   "outputs": [
    {
     "data": {
      "text/html": [
       "<div>\n",
       "<style scoped>\n",
       "    .dataframe tbody tr th:only-of-type {\n",
       "        vertical-align: middle;\n",
       "    }\n",
       "\n",
       "    .dataframe tbody tr th {\n",
       "        vertical-align: top;\n",
       "    }\n",
       "\n",
       "    .dataframe thead th {\n",
       "        text-align: right;\n",
       "    }\n",
       "</style>\n",
       "<table border=\"1\" class=\"dataframe\">\n",
       "  <thead>\n",
       "    <tr style=\"text-align: right;\">\n",
       "      <th></th>\n",
       "      <th>UID</th>\n",
       "      <th>BLOCKID</th>\n",
       "      <th>SUMLEVEL</th>\n",
       "      <th>COUNTYID</th>\n",
       "      <th>STATEID</th>\n",
       "      <th>state</th>\n",
       "      <th>state_ab</th>\n",
       "      <th>city</th>\n",
       "      <th>place</th>\n",
       "      <th>type</th>\n",
       "      <th>...</th>\n",
       "      <th>female_age_mean</th>\n",
       "      <th>female_age_median</th>\n",
       "      <th>female_age_stdev</th>\n",
       "      <th>female_age_sample_weight</th>\n",
       "      <th>female_age_samples</th>\n",
       "      <th>pct_own</th>\n",
       "      <th>married</th>\n",
       "      <th>married_snp</th>\n",
       "      <th>separated</th>\n",
       "      <th>divorced</th>\n",
       "    </tr>\n",
       "  </thead>\n",
       "  <tbody>\n",
       "    <tr>\n",
       "      <th>0</th>\n",
       "      <td>255504</td>\n",
       "      <td>NaN</td>\n",
       "      <td>140</td>\n",
       "      <td>163</td>\n",
       "      <td>26</td>\n",
       "      <td>Michigan</td>\n",
       "      <td>MI</td>\n",
       "      <td>Detroit</td>\n",
       "      <td>Dearborn Heights City</td>\n",
       "      <td>CDP</td>\n",
       "      <td>...</td>\n",
       "      <td>34.78682</td>\n",
       "      <td>33.75000</td>\n",
       "      <td>21.58531</td>\n",
       "      <td>416.48097</td>\n",
       "      <td>1938.0</td>\n",
       "      <td>0.70252</td>\n",
       "      <td>0.28217</td>\n",
       "      <td>0.05910</td>\n",
       "      <td>0.03813</td>\n",
       "      <td>0.14299</td>\n",
       "    </tr>\n",
       "    <tr>\n",
       "      <th>1</th>\n",
       "      <td>252676</td>\n",
       "      <td>NaN</td>\n",
       "      <td>140</td>\n",
       "      <td>1</td>\n",
       "      <td>23</td>\n",
       "      <td>Maine</td>\n",
       "      <td>ME</td>\n",
       "      <td>Auburn</td>\n",
       "      <td>Auburn City</td>\n",
       "      <td>City</td>\n",
       "      <td>...</td>\n",
       "      <td>44.23451</td>\n",
       "      <td>46.66667</td>\n",
       "      <td>22.37036</td>\n",
       "      <td>532.03505</td>\n",
       "      <td>1950.0</td>\n",
       "      <td>0.85128</td>\n",
       "      <td>0.64221</td>\n",
       "      <td>0.02338</td>\n",
       "      <td>0.00000</td>\n",
       "      <td>0.13377</td>\n",
       "    </tr>\n",
       "    <tr>\n",
       "      <th>2</th>\n",
       "      <td>276314</td>\n",
       "      <td>NaN</td>\n",
       "      <td>140</td>\n",
       "      <td>15</td>\n",
       "      <td>42</td>\n",
       "      <td>Pennsylvania</td>\n",
       "      <td>PA</td>\n",
       "      <td>Pine City</td>\n",
       "      <td>Millerton</td>\n",
       "      <td>Borough</td>\n",
       "      <td>...</td>\n",
       "      <td>41.62426</td>\n",
       "      <td>44.50000</td>\n",
       "      <td>22.86213</td>\n",
       "      <td>453.11959</td>\n",
       "      <td>1879.0</td>\n",
       "      <td>0.81897</td>\n",
       "      <td>0.59961</td>\n",
       "      <td>0.01746</td>\n",
       "      <td>0.01358</td>\n",
       "      <td>0.10026</td>\n",
       "    </tr>\n",
       "    <tr>\n",
       "      <th>3</th>\n",
       "      <td>248614</td>\n",
       "      <td>NaN</td>\n",
       "      <td>140</td>\n",
       "      <td>231</td>\n",
       "      <td>21</td>\n",
       "      <td>Kentucky</td>\n",
       "      <td>KY</td>\n",
       "      <td>Monticello</td>\n",
       "      <td>Monticello City</td>\n",
       "      <td>City</td>\n",
       "      <td>...</td>\n",
       "      <td>44.81200</td>\n",
       "      <td>48.00000</td>\n",
       "      <td>21.03155</td>\n",
       "      <td>263.94320</td>\n",
       "      <td>1081.0</td>\n",
       "      <td>0.84609</td>\n",
       "      <td>0.56953</td>\n",
       "      <td>0.05492</td>\n",
       "      <td>0.04694</td>\n",
       "      <td>0.12489</td>\n",
       "    </tr>\n",
       "    <tr>\n",
       "      <th>4</th>\n",
       "      <td>286865</td>\n",
       "      <td>NaN</td>\n",
       "      <td>140</td>\n",
       "      <td>355</td>\n",
       "      <td>48</td>\n",
       "      <td>Texas</td>\n",
       "      <td>TX</td>\n",
       "      <td>Corpus Christi</td>\n",
       "      <td>Edroy</td>\n",
       "      <td>Town</td>\n",
       "      <td>...</td>\n",
       "      <td>40.66618</td>\n",
       "      <td>42.66667</td>\n",
       "      <td>21.30900</td>\n",
       "      <td>709.90829</td>\n",
       "      <td>2956.0</td>\n",
       "      <td>0.79077</td>\n",
       "      <td>0.57620</td>\n",
       "      <td>0.01726</td>\n",
       "      <td>0.00588</td>\n",
       "      <td>0.16379</td>\n",
       "    </tr>\n",
       "  </tbody>\n",
       "</table>\n",
       "<p>5 rows × 80 columns</p>\n",
       "</div>"
      ],
      "text/plain": [
       "      UID  BLOCKID  SUMLEVEL  COUNTYID  STATEID         state state_ab  \\\n",
       "0  255504      NaN       140       163       26      Michigan       MI   \n",
       "1  252676      NaN       140         1       23         Maine       ME   \n",
       "2  276314      NaN       140        15       42  Pennsylvania       PA   \n",
       "3  248614      NaN       140       231       21      Kentucky       KY   \n",
       "4  286865      NaN       140       355       48         Texas       TX   \n",
       "\n",
       "             city                  place     type  ... female_age_mean  \\\n",
       "0         Detroit  Dearborn Heights City      CDP  ...        34.78682   \n",
       "1          Auburn            Auburn City     City  ...        44.23451   \n",
       "2       Pine City              Millerton  Borough  ...        41.62426   \n",
       "3      Monticello        Monticello City     City  ...        44.81200   \n",
       "4  Corpus Christi                  Edroy     Town  ...        40.66618   \n",
       "\n",
       "   female_age_median  female_age_stdev  female_age_sample_weight  \\\n",
       "0           33.75000          21.58531                 416.48097   \n",
       "1           46.66667          22.37036                 532.03505   \n",
       "2           44.50000          22.86213                 453.11959   \n",
       "3           48.00000          21.03155                 263.94320   \n",
       "4           42.66667          21.30900                 709.90829   \n",
       "\n",
       "   female_age_samples  pct_own  married  married_snp  separated  divorced  \n",
       "0              1938.0  0.70252  0.28217      0.05910    0.03813   0.14299  \n",
       "1              1950.0  0.85128  0.64221      0.02338    0.00000   0.13377  \n",
       "2              1879.0  0.81897  0.59961      0.01746    0.01358   0.10026  \n",
       "3              1081.0  0.84609  0.56953      0.05492    0.04694   0.12489  \n",
       "4              2956.0  0.79077  0.57620      0.01726    0.00588   0.16379  \n",
       "\n",
       "[5 rows x 80 columns]"
      ]
     },
     "execution_count": 4,
     "metadata": {},
     "output_type": "execute_result"
    }
   ],
   "source": [
    "df_test.head()"
   ]
  },
  {
   "cell_type": "markdown",
   "id": "e874b3e8-50d4-45ca-9554-03dcb8eb450f",
   "metadata": {},
   "source": [
    "2.Figure out the primary key and look for the requirement of indexing"
   ]
  },
  {
   "cell_type": "code",
   "execution_count": 5,
   "id": "d0ee0bc6-792a-4ac6-ad72-28792b88dc8d",
   "metadata": {},
   "outputs": [
    {
     "data": {
      "text/plain": [
       "123"
      ]
     },
     "execution_count": 5,
     "metadata": {},
     "output_type": "execute_result"
    }
   ],
   "source": [
    "len(set(df_train['UID']).intersection(set(df_test['UID'])))"
   ]
  },
  {
   "cell_type": "code",
   "execution_count": 6,
   "id": "c263d7b8-90f5-4c52-8756-65c28d2da7bf",
   "metadata": {},
   "outputs": [],
   "source": [
    "# So here 123 common UID in train and test data."
   ]
  },
  {
   "cell_type": "code",
   "execution_count": 7,
   "id": "76fc6aff-73a6-44e5-a743-515b6dc4110c",
   "metadata": {},
   "outputs": [
    {
     "data": {
      "text/plain": [
       "UID              int64\n",
       "BLOCKID        float64\n",
       "SUMLEVEL         int64\n",
       "COUNTYID         int64\n",
       "STATEID          int64\n",
       "                ...   \n",
       "pct_own        float64\n",
       "married        float64\n",
       "married_snp    float64\n",
       "separated      float64\n",
       "divorced       float64\n",
       "Length: 80, dtype: object"
      ]
     },
     "execution_count": 7,
     "metadata": {},
     "output_type": "execute_result"
    }
   ],
   "source": [
    "df_train.dtypes"
   ]
  },
  {
   "cell_type": "code",
   "execution_count": 8,
   "id": "2d9b5f61-48fb-47ab-b332-b98e3e88a816",
   "metadata": {},
   "outputs": [
    {
     "data": {
      "text/html": [
       "<div>\n",
       "<style scoped>\n",
       "    .dataframe tbody tr th:only-of-type {\n",
       "        vertical-align: middle;\n",
       "    }\n",
       "\n",
       "    .dataframe tbody tr th {\n",
       "        vertical-align: top;\n",
       "    }\n",
       "\n",
       "    .dataframe thead th {\n",
       "        text-align: right;\n",
       "    }\n",
       "</style>\n",
       "<table border=\"1\" class=\"dataframe\">\n",
       "  <thead>\n",
       "    <tr style=\"text-align: right;\">\n",
       "      <th></th>\n",
       "      <th>state</th>\n",
       "      <th>state_ab</th>\n",
       "      <th>city</th>\n",
       "      <th>place</th>\n",
       "      <th>type</th>\n",
       "      <th>primary</th>\n",
       "    </tr>\n",
       "  </thead>\n",
       "  <tbody>\n",
       "    <tr>\n",
       "      <th>count</th>\n",
       "      <td>27321</td>\n",
       "      <td>27321</td>\n",
       "      <td>27321</td>\n",
       "      <td>27321</td>\n",
       "      <td>27321</td>\n",
       "      <td>27321</td>\n",
       "    </tr>\n",
       "    <tr>\n",
       "      <th>unique</th>\n",
       "      <td>52</td>\n",
       "      <td>52</td>\n",
       "      <td>6916</td>\n",
       "      <td>9912</td>\n",
       "      <td>6</td>\n",
       "      <td>1</td>\n",
       "    </tr>\n",
       "    <tr>\n",
       "      <th>top</th>\n",
       "      <td>California</td>\n",
       "      <td>CA</td>\n",
       "      <td>Chicago</td>\n",
       "      <td>New York City</td>\n",
       "      <td>City</td>\n",
       "      <td>tract</td>\n",
       "    </tr>\n",
       "    <tr>\n",
       "      <th>freq</th>\n",
       "      <td>2926</td>\n",
       "      <td>2926</td>\n",
       "      <td>294</td>\n",
       "      <td>490</td>\n",
       "      <td>15237</td>\n",
       "      <td>27321</td>\n",
       "    </tr>\n",
       "  </tbody>\n",
       "</table>\n",
       "</div>"
      ],
      "text/plain": [
       "             state state_ab     city          place   type primary\n",
       "count        27321    27321    27321          27321  27321   27321\n",
       "unique          52       52     6916           9912      6       1\n",
       "top     California       CA  Chicago  New York City   City   tract\n",
       "freq          2926     2926      294            490  15237   27321"
      ]
     },
     "execution_count": 8,
     "metadata": {},
     "output_type": "execute_result"
    }
   ],
   "source": [
    "df_train.describe(include='O')"
   ]
  },
  {
   "cell_type": "markdown",
   "id": "e6ddde6d-5f75-4e2e-bab0-d128e30da10a",
   "metadata": {},
   "source": [
    "3.Gauge the fill rate of the variables and devise plans for missing value treatment. Please explain explicitly the reason for the treatment chosen for each variable.\n"
   ]
  },
  {
   "cell_type": "code",
   "execution_count": 9,
   "id": "e5d7f1b6-84d5-4013-b864-71de275840b9",
   "metadata": {},
   "outputs": [],
   "source": [
    "#This flag will help us split the data back later\n",
    "df_train['split']= 'Train'\n",
    "df_test['split']= 'Test'"
   ]
  },
  {
   "cell_type": "code",
   "execution_count": 10,
   "id": "66f2b233-b274-4622-a49c-ea9fe47cc093",
   "metadata": {},
   "outputs": [
    {
     "data": {
      "text/html": [
       "<div>\n",
       "<style scoped>\n",
       "    .dataframe tbody tr th:only-of-type {\n",
       "        vertical-align: middle;\n",
       "    }\n",
       "\n",
       "    .dataframe tbody tr th {\n",
       "        vertical-align: top;\n",
       "    }\n",
       "\n",
       "    .dataframe thead th {\n",
       "        text-align: right;\n",
       "    }\n",
       "</style>\n",
       "<table border=\"1\" class=\"dataframe\">\n",
       "  <thead>\n",
       "    <tr style=\"text-align: right;\">\n",
       "      <th></th>\n",
       "      <th>UID</th>\n",
       "      <th>BLOCKID</th>\n",
       "      <th>SUMLEVEL</th>\n",
       "      <th>COUNTYID</th>\n",
       "      <th>STATEID</th>\n",
       "      <th>state</th>\n",
       "      <th>state_ab</th>\n",
       "      <th>city</th>\n",
       "      <th>place</th>\n",
       "      <th>type</th>\n",
       "      <th>...</th>\n",
       "      <th>female_age_median</th>\n",
       "      <th>female_age_stdev</th>\n",
       "      <th>female_age_sample_weight</th>\n",
       "      <th>female_age_samples</th>\n",
       "      <th>pct_own</th>\n",
       "      <th>married</th>\n",
       "      <th>married_snp</th>\n",
       "      <th>separated</th>\n",
       "      <th>divorced</th>\n",
       "      <th>split</th>\n",
       "    </tr>\n",
       "  </thead>\n",
       "  <tbody>\n",
       "    <tr>\n",
       "      <th>0</th>\n",
       "      <td>267822</td>\n",
       "      <td>NaN</td>\n",
       "      <td>140</td>\n",
       "      <td>53</td>\n",
       "      <td>36</td>\n",
       "      <td>New York</td>\n",
       "      <td>NY</td>\n",
       "      <td>Hamilton</td>\n",
       "      <td>Hamilton</td>\n",
       "      <td>City</td>\n",
       "      <td>...</td>\n",
       "      <td>45.33333</td>\n",
       "      <td>22.51276</td>\n",
       "      <td>685.33845</td>\n",
       "      <td>2618.0</td>\n",
       "      <td>0.79046</td>\n",
       "      <td>0.57851</td>\n",
       "      <td>0.01882</td>\n",
       "      <td>0.01240</td>\n",
       "      <td>0.08770</td>\n",
       "      <td>Train</td>\n",
       "    </tr>\n",
       "    <tr>\n",
       "      <th>1</th>\n",
       "      <td>246444</td>\n",
       "      <td>NaN</td>\n",
       "      <td>140</td>\n",
       "      <td>141</td>\n",
       "      <td>18</td>\n",
       "      <td>Indiana</td>\n",
       "      <td>IN</td>\n",
       "      <td>South Bend</td>\n",
       "      <td>Roseland</td>\n",
       "      <td>City</td>\n",
       "      <td>...</td>\n",
       "      <td>37.58333</td>\n",
       "      <td>23.43353</td>\n",
       "      <td>267.23367</td>\n",
       "      <td>1284.0</td>\n",
       "      <td>0.52483</td>\n",
       "      <td>0.34886</td>\n",
       "      <td>0.01426</td>\n",
       "      <td>0.01426</td>\n",
       "      <td>0.09030</td>\n",
       "      <td>Train</td>\n",
       "    </tr>\n",
       "    <tr>\n",
       "      <th>2</th>\n",
       "      <td>245683</td>\n",
       "      <td>NaN</td>\n",
       "      <td>140</td>\n",
       "      <td>63</td>\n",
       "      <td>18</td>\n",
       "      <td>Indiana</td>\n",
       "      <td>IN</td>\n",
       "      <td>Danville</td>\n",
       "      <td>Danville</td>\n",
       "      <td>City</td>\n",
       "      <td>...</td>\n",
       "      <td>42.83333</td>\n",
       "      <td>23.94119</td>\n",
       "      <td>707.01963</td>\n",
       "      <td>3238.0</td>\n",
       "      <td>0.85331</td>\n",
       "      <td>0.64745</td>\n",
       "      <td>0.02830</td>\n",
       "      <td>0.01607</td>\n",
       "      <td>0.10657</td>\n",
       "      <td>Train</td>\n",
       "    </tr>\n",
       "    <tr>\n",
       "      <th>3</th>\n",
       "      <td>279653</td>\n",
       "      <td>NaN</td>\n",
       "      <td>140</td>\n",
       "      <td>127</td>\n",
       "      <td>72</td>\n",
       "      <td>Puerto Rico</td>\n",
       "      <td>PR</td>\n",
       "      <td>San Juan</td>\n",
       "      <td>Guaynabo</td>\n",
       "      <td>Urban</td>\n",
       "      <td>...</td>\n",
       "      <td>50.58333</td>\n",
       "      <td>24.32015</td>\n",
       "      <td>362.20193</td>\n",
       "      <td>1559.0</td>\n",
       "      <td>0.65037</td>\n",
       "      <td>0.47257</td>\n",
       "      <td>0.02021</td>\n",
       "      <td>0.02021</td>\n",
       "      <td>0.10106</td>\n",
       "      <td>Train</td>\n",
       "    </tr>\n",
       "    <tr>\n",
       "      <th>4</th>\n",
       "      <td>247218</td>\n",
       "      <td>NaN</td>\n",
       "      <td>140</td>\n",
       "      <td>161</td>\n",
       "      <td>20</td>\n",
       "      <td>Kansas</td>\n",
       "      <td>KS</td>\n",
       "      <td>Manhattan</td>\n",
       "      <td>Manhattan City</td>\n",
       "      <td>City</td>\n",
       "      <td>...</td>\n",
       "      <td>21.58333</td>\n",
       "      <td>11.10484</td>\n",
       "      <td>1854.48652</td>\n",
       "      <td>3051.0</td>\n",
       "      <td>0.13046</td>\n",
       "      <td>0.12356</td>\n",
       "      <td>0.00000</td>\n",
       "      <td>0.00000</td>\n",
       "      <td>0.03109</td>\n",
       "      <td>Train</td>\n",
       "    </tr>\n",
       "  </tbody>\n",
       "</table>\n",
       "<p>5 rows × 81 columns</p>\n",
       "</div>"
      ],
      "text/plain": [
       "      UID  BLOCKID  SUMLEVEL  COUNTYID  STATEID        state state_ab  \\\n",
       "0  267822      NaN       140        53       36     New York       NY   \n",
       "1  246444      NaN       140       141       18      Indiana       IN   \n",
       "2  245683      NaN       140        63       18      Indiana       IN   \n",
       "3  279653      NaN       140       127       72  Puerto Rico       PR   \n",
       "4  247218      NaN       140       161       20       Kansas       KS   \n",
       "\n",
       "         city           place   type  ... female_age_median  female_age_stdev  \\\n",
       "0    Hamilton        Hamilton   City  ...          45.33333          22.51276   \n",
       "1  South Bend        Roseland   City  ...          37.58333          23.43353   \n",
       "2    Danville        Danville   City  ...          42.83333          23.94119   \n",
       "3    San Juan        Guaynabo  Urban  ...          50.58333          24.32015   \n",
       "4   Manhattan  Manhattan City   City  ...          21.58333          11.10484   \n",
       "\n",
       "   female_age_sample_weight  female_age_samples  pct_own  married  \\\n",
       "0                 685.33845              2618.0  0.79046  0.57851   \n",
       "1                 267.23367              1284.0  0.52483  0.34886   \n",
       "2                 707.01963              3238.0  0.85331  0.64745   \n",
       "3                 362.20193              1559.0  0.65037  0.47257   \n",
       "4                1854.48652              3051.0  0.13046  0.12356   \n",
       "\n",
       "   married_snp  separated  divorced  split  \n",
       "0      0.01882    0.01240   0.08770  Train  \n",
       "1      0.01426    0.01426   0.09030  Train  \n",
       "2      0.02830    0.01607   0.10657  Train  \n",
       "3      0.02021    0.02021   0.10106  Train  \n",
       "4      0.00000    0.00000   0.03109  Train  \n",
       "\n",
       "[5 rows x 81 columns]"
      ]
     },
     "execution_count": 10,
     "metadata": {},
     "output_type": "execute_result"
    }
   ],
   "source": [
    "df_combined=df_train.append(df_test, ignore_index=True)\n",
    "df_combined.head()"
   ]
  },
  {
   "cell_type": "code",
   "execution_count": 11,
   "id": "b252f782-2000-4056-803c-f90c57aced53",
   "metadata": {},
   "outputs": [
    {
     "data": {
      "text/plain": [
       "(39030, 81)"
      ]
     },
     "execution_count": 11,
     "metadata": {},
     "output_type": "execute_result"
    }
   ],
   "source": [
    "df_combined.shape"
   ]
  },
  {
   "cell_type": "code",
   "execution_count": 12,
   "id": "f340b74d-f98f-4bc3-8ce6-d01985293402",
   "metadata": {},
   "outputs": [
    {
     "data": {
      "text/plain": [
       "UID                0\n",
       "BLOCKID        39030\n",
       "SUMLEVEL           0\n",
       "COUNTYID           0\n",
       "STATEID            0\n",
       "               ...  \n",
       "married          275\n",
       "married_snp      275\n",
       "separated        275\n",
       "divorced         275\n",
       "split              0\n",
       "Length: 81, dtype: int64"
      ]
     },
     "execution_count": 12,
     "metadata": {},
     "output_type": "execute_result"
    }
   ],
   "source": [
    "df_combined.isnull().sum()"
   ]
  },
  {
   "cell_type": "code",
   "execution_count": 13,
   "id": "dca5f67a-70dd-4605-9be5-ee1c537958ef",
   "metadata": {},
   "outputs": [],
   "source": [
    "# BlOCKID is completly missing or Null in both train and test data. So we will drop BLOCKID feature.\n",
    "df_combined.drop(columns =['BLOCKID'], axis=1, inplace=True)"
   ]
  },
  {
   "cell_type": "code",
   "execution_count": 14,
   "id": "7579c776-d1ad-4d51-ab25-8fde1151130c",
   "metadata": {},
   "outputs": [
    {
     "data": {
      "text/plain": [
       "UID            0.000000\n",
       "SUMLEVEL       0.000000\n",
       "COUNTYID       0.000000\n",
       "STATEID        0.000000\n",
       "state          0.000000\n",
       "                 ...   \n",
       "married        0.704586\n",
       "married_snp    0.704586\n",
       "separated      0.704586\n",
       "divorced       0.704586\n",
       "split          0.000000\n",
       "Length: 80, dtype: float64"
      ]
     },
     "execution_count": 14,
     "metadata": {},
     "output_type": "execute_result"
    }
   ],
   "source": [
    "df_combined.isna().sum()/len(df_combined)*100\n"
   ]
  },
  {
   "cell_type": "code",
   "execution_count": 15,
   "id": "0fac9b44-efa8-45c4-84c0-43c33bd5fb6c",
   "metadata": {},
   "outputs": [
    {
     "data": {
      "text/plain": [
       "['rent_mean',\n",
       " 'rent_median',\n",
       " 'rent_stdev',\n",
       " 'rent_sample_weight',\n",
       " 'rent_samples',\n",
       " 'rent_gt_10',\n",
       " 'rent_gt_15',\n",
       " 'rent_gt_20',\n",
       " 'rent_gt_25',\n",
       " 'rent_gt_30',\n",
       " 'rent_gt_35',\n",
       " 'rent_gt_40',\n",
       " 'rent_gt_50',\n",
       " 'hi_mean',\n",
       " 'hi_median',\n",
       " 'hi_stdev',\n",
       " 'hi_sample_weight',\n",
       " 'hi_samples',\n",
       " 'family_mean',\n",
       " 'family_median',\n",
       " 'family_stdev',\n",
       " 'family_sample_weight',\n",
       " 'family_samples',\n",
       " 'hc_mortgage_mean',\n",
       " 'hc_mortgage_median',\n",
       " 'hc_mortgage_stdev',\n",
       " 'hc_mortgage_sample_weight',\n",
       " 'hc_mortgage_samples',\n",
       " 'hc_mean',\n",
       " 'hc_median',\n",
       " 'hc_stdev',\n",
       " 'hc_samples',\n",
       " 'hc_sample_weight',\n",
       " 'home_equity_second_mortgage',\n",
       " 'second_mortgage',\n",
       " 'home_equity',\n",
       " 'debt',\n",
       " 'second_mortgage_cdf',\n",
       " 'home_equity_cdf',\n",
       " 'debt_cdf',\n",
       " 'hs_degree',\n",
       " 'hs_degree_male',\n",
       " 'hs_degree_female',\n",
       " 'male_age_mean',\n",
       " 'male_age_median',\n",
       " 'male_age_stdev',\n",
       " 'male_age_sample_weight',\n",
       " 'male_age_samples',\n",
       " 'female_age_mean',\n",
       " 'female_age_median',\n",
       " 'female_age_stdev',\n",
       " 'female_age_sample_weight',\n",
       " 'female_age_samples',\n",
       " 'pct_own',\n",
       " 'married',\n",
       " 'married_snp',\n",
       " 'separated',\n",
       " 'divorced']"
      ]
     },
     "execution_count": 15,
     "metadata": {},
     "output_type": "execute_result"
    }
   ],
   "source": [
    "# Missing value greater than zero\n",
    "col_check=df_combined.isna().sum().to_frame().reset_index()\n",
    "null_col=col_check[col_check[0]>0]['index'].tolist()\n",
    "null_col"
   ]
  },
  {
   "cell_type": "code",
   "execution_count": 16,
   "id": "1414311d-2584-4253-926b-c9750534e3a3",
   "metadata": {},
   "outputs": [
    {
     "name": "stdout",
     "output_type": "stream",
     "text": [
      "rent_mean\n",
      "rent_median\n",
      "rent_stdev\n",
      "rent_sample_weight\n",
      "rent_samples\n",
      "rent_gt_10\n",
      "rent_gt_15\n",
      "rent_gt_20\n",
      "rent_gt_25\n",
      "rent_gt_30\n",
      "rent_gt_35\n",
      "rent_gt_40\n",
      "rent_gt_50\n",
      "hi_mean\n",
      "hi_median\n",
      "hi_stdev\n",
      "hi_sample_weight\n",
      "hi_samples\n",
      "family_mean\n",
      "family_median\n",
      "family_stdev\n",
      "family_sample_weight\n",
      "family_samples\n",
      "hc_mortgage_mean\n",
      "hc_mortgage_median\n",
      "hc_mortgage_stdev\n",
      "hc_mortgage_sample_weight\n",
      "hc_mortgage_samples\n",
      "hc_mean\n",
      "hc_median\n",
      "hc_stdev\n",
      "hc_samples\n",
      "hc_sample_weight\n",
      "home_equity_second_mortgage\n",
      "second_mortgage\n",
      "home_equity\n",
      "debt\n",
      "second_mortgage_cdf\n",
      "home_equity_cdf\n",
      "debt_cdf\n",
      "hs_degree\n",
      "hs_degree_male\n",
      "hs_degree_female\n",
      "male_age_mean\n",
      "male_age_median\n",
      "male_age_stdev\n",
      "male_age_sample_weight\n",
      "male_age_samples\n",
      "female_age_mean\n",
      "female_age_median\n",
      "female_age_stdev\n",
      "female_age_sample_weight\n",
      "female_age_samples\n",
      "pct_own\n",
      "married\n",
      "married_snp\n",
      "separated\n",
      "divorced\n"
     ]
    }
   ],
   "source": [
    "#If the feature have less than 8 unique value then I am consdering as categorical else it will be continuous\n",
    "for i in null_col:\n",
    "    print(i)\n",
    "    if df_combined[i].nunique()>8:      #Continuous data\n",
    "        df_combined[i].fillna(df_combined[i].median(),inplace=True)    #Bcz median is not impacted by outlier\n",
    "    else:df_combined[i].fillna(df_combined[i].mode()[0],inplace=True)  #Categorical data"
   ]
  },
  {
   "cell_type": "code",
   "execution_count": 17,
   "id": "4365a6ba-478c-4196-8b7e-7c6c5a81a628",
   "metadata": {},
   "outputs": [
    {
     "data": {
      "text/plain": [
       "UID            0.0\n",
       "SUMLEVEL       0.0\n",
       "COUNTYID       0.0\n",
       "STATEID        0.0\n",
       "state          0.0\n",
       "              ... \n",
       "married        0.0\n",
       "married_snp    0.0\n",
       "separated      0.0\n",
       "divorced       0.0\n",
       "split          0.0\n",
       "Length: 80, dtype: float64"
      ]
     },
     "execution_count": 17,
     "metadata": {},
     "output_type": "execute_result"
    }
   ],
   "source": [
    "df_combined.isna().sum()/len(df_combined)*100\n"
   ]
  },
  {
   "cell_type": "code",
   "execution_count": 18,
   "id": "503c879b-5977-4ec0-b3af-947423284e26",
   "metadata": {},
   "outputs": [
    {
     "data": {
      "text/plain": [
       "(38838, 80)"
      ]
     },
     "execution_count": 18,
     "metadata": {},
     "output_type": "execute_result"
    }
   ],
   "source": [
    "# Drop duplicate observations\n",
    "df_combined.drop_duplicates(inplace=True)\n",
    "df_combined.shape"
   ]
  },
  {
   "cell_type": "code",
   "execution_count": 19,
   "id": "831c7f2c-97ec-4f78-8604-38ad9adf9ec2",
   "metadata": {},
   "outputs": [
    {
     "data": {
      "text/plain": [
       "(38715, 80)"
      ]
     },
     "execution_count": 19,
     "metadata": {},
     "output_type": "execute_result"
    }
   ],
   "source": [
    "# As we have seen above we have 123 unique UID which are common in both train and test data. so duplicate UID removing them.\n",
    "df_combined.drop_duplicates(subset=['UID'],inplace=True)\n",
    "df_combined.shape"
   ]
  },
  {
   "cell_type": "code",
   "execution_count": 20,
   "id": "9b87e863-3dfd-48ea-8646-8f88c5c247cb",
   "metadata": {},
   "outputs": [],
   "source": [
    "top_2500_loc=df_train[(df_train['second_mortgage']<0.50) & \n",
    "                      (df_train['pct_own']>0.10) ].sort_values(by='second_mortgage', ascending=False).head(2500)"
   ]
  },
  {
   "cell_type": "code",
   "execution_count": 21,
   "id": "1d2a88e5-25cd-4e5c-9788-fd4f4af6de44",
   "metadata": {},
   "outputs": [
    {
     "data": {
      "text/html": [
       "<div>\n",
       "<style scoped>\n",
       "    .dataframe tbody tr th:only-of-type {\n",
       "        vertical-align: middle;\n",
       "    }\n",
       "\n",
       "    .dataframe tbody tr th {\n",
       "        vertical-align: top;\n",
       "    }\n",
       "\n",
       "    .dataframe thead th {\n",
       "        text-align: right;\n",
       "    }\n",
       "</style>\n",
       "<table border=\"1\" class=\"dataframe\">\n",
       "  <thead>\n",
       "    <tr style=\"text-align: right;\">\n",
       "      <th></th>\n",
       "      <th>state</th>\n",
       "      <th>city</th>\n",
       "      <th>state_ab</th>\n",
       "      <th>place</th>\n",
       "      <th>lat</th>\n",
       "      <th>lng</th>\n",
       "    </tr>\n",
       "  </thead>\n",
       "  <tbody>\n",
       "    <tr>\n",
       "      <th>11980</th>\n",
       "      <td>Massachusetts</td>\n",
       "      <td>Worcester</td>\n",
       "      <td>MA</td>\n",
       "      <td>Worcester City</td>\n",
       "      <td>42.254262</td>\n",
       "      <td>-71.800347</td>\n",
       "    </tr>\n",
       "    <tr>\n",
       "      <th>26018</th>\n",
       "      <td>New York</td>\n",
       "      <td>Corona</td>\n",
       "      <td>NY</td>\n",
       "      <td>Harbor Hills</td>\n",
       "      <td>40.751809</td>\n",
       "      <td>-73.853582</td>\n",
       "    </tr>\n",
       "    <tr>\n",
       "      <th>7829</th>\n",
       "      <td>Maryland</td>\n",
       "      <td>Glen Burnie</td>\n",
       "      <td>MD</td>\n",
       "      <td>Glen Burnie</td>\n",
       "      <td>39.127273</td>\n",
       "      <td>-76.635265</td>\n",
       "    </tr>\n",
       "    <tr>\n",
       "      <th>2077</th>\n",
       "      <td>Florida</td>\n",
       "      <td>Tampa</td>\n",
       "      <td>FL</td>\n",
       "      <td>Egypt Lake-leto</td>\n",
       "      <td>28.029063</td>\n",
       "      <td>-82.495395</td>\n",
       "    </tr>\n",
       "    <tr>\n",
       "      <th>1701</th>\n",
       "      <td>Illinois</td>\n",
       "      <td>Chicago</td>\n",
       "      <td>IL</td>\n",
       "      <td>Lincolnwood</td>\n",
       "      <td>41.967289</td>\n",
       "      <td>-87.652434</td>\n",
       "    </tr>\n",
       "  </tbody>\n",
       "</table>\n",
       "</div>"
      ],
      "text/plain": [
       "               state         city state_ab            place        lat  \\\n",
       "11980  Massachusetts    Worcester       MA   Worcester City  42.254262   \n",
       "26018       New York       Corona       NY     Harbor Hills  40.751809   \n",
       "7829        Maryland  Glen Burnie       MD      Glen Burnie  39.127273   \n",
       "2077         Florida        Tampa       FL  Egypt Lake-leto  28.029063   \n",
       "1701        Illinois      Chicago       IL      Lincolnwood  41.967289   \n",
       "\n",
       "             lng  \n",
       "11980 -71.800347  \n",
       "26018 -73.853582  \n",
       "7829  -76.635265  \n",
       "2077  -82.495395  \n",
       "1701  -87.652434  "
      ]
     },
     "execution_count": 21,
     "metadata": {},
     "output_type": "execute_result"
    }
   ],
   "source": [
    "top_2500_loc=top_2500_loc[['state','city','state_ab','place','lat','lng']]\n",
    "top_2500_loc.head()"
   ]
  },
  {
   "cell_type": "code",
   "execution_count": 22,
   "id": "e03ecbfa-d58f-43ac-99d2-c9e81a15e87d",
   "metadata": {},
   "outputs": [
    {
     "name": "stdout",
     "output_type": "stream",
     "text": [
      "Requirement already satisfied: geopandas in c:\\users\\91762\\anaconda3\\anaconda\\lib\\site-packages (0.13.0)\n",
      "Requirement already satisfied: packaging in c:\\users\\91762\\anaconda3\\anaconda\\lib\\site-packages (from geopandas) (21.3)\n",
      "Requirement already satisfied: pyproj>=3.0.1 in c:\\users\\91762\\anaconda3\\anaconda\\lib\\site-packages (from geopandas) (3.5.0)\n",
      "Requirement already satisfied: shapely>=1.7.1 in c:\\users\\91762\\anaconda3\\anaconda\\lib\\site-packages (from geopandas) (2.0.1)\n",
      "Requirement already satisfied: fiona>=1.8.19 in c:\\users\\91762\\anaconda3\\anaconda\\lib\\site-packages (from geopandas) (1.9.3)\n",
      "Requirement already satisfied: pandas>=1.1.0 in c:\\users\\91762\\anaconda3\\anaconda\\lib\\site-packages (from geopandas) (1.4.2)\n",
      "Requirement already satisfied: click-plugins>=1.0 in c:\\users\\91762\\anaconda3\\anaconda\\lib\\site-packages (from fiona>=1.8.19->geopandas) (1.1.1)\n",
      "Requirement already satisfied: attrs>=19.2.0 in c:\\users\\91762\\anaconda3\\anaconda\\lib\\site-packages (from fiona>=1.8.19->geopandas) (21.4.0)\n",
      "Requirement already satisfied: certifi in c:\\users\\91762\\anaconda3\\anaconda\\lib\\site-packages (from fiona>=1.8.19->geopandas) (2021.10.8)\n",
      "Requirement already satisfied: munch>=2.3.2 in c:\\users\\91762\\anaconda3\\anaconda\\lib\\site-packages (from fiona>=1.8.19->geopandas) (2.5.0)\n",
      "Requirement already satisfied: click~=8.0 in c:\\users\\91762\\anaconda3\\anaconda\\lib\\site-packages (from fiona>=1.8.19->geopandas) (8.0.4)\n",
      "Requirement already satisfied: cligj>=0.5 in c:\\users\\91762\\anaconda3\\anaconda\\lib\\site-packages (from fiona>=1.8.19->geopandas) (0.7.2)\n",
      "Requirement already satisfied: importlib-metadata in c:\\users\\91762\\anaconda3\\anaconda\\lib\\site-packages (from fiona>=1.8.19->geopandas) (4.11.3)\n",
      "Requirement already satisfied: colorama in c:\\users\\91762\\anaconda3\\anaconda\\lib\\site-packages (from click~=8.0->fiona>=1.8.19->geopandas) (0.4.4)\n",
      "Requirement already satisfied: six in c:\\users\\91762\\anaconda3\\anaconda\\lib\\site-packages (from munch>=2.3.2->fiona>=1.8.19->geopandas) (1.16.0)\n",
      "Requirement already satisfied: pytz>=2020.1 in c:\\users\\91762\\anaconda3\\anaconda\\lib\\site-packages (from pandas>=1.1.0->geopandas) (2021.3)\n",
      "Requirement already satisfied: numpy>=1.18.5 in c:\\users\\91762\\anaconda3\\anaconda\\lib\\site-packages (from pandas>=1.1.0->geopandas) (1.21.5)\n",
      "Requirement already satisfied: python-dateutil>=2.8.1 in c:\\users\\91762\\anaconda3\\anaconda\\lib\\site-packages (from pandas>=1.1.0->geopandas) (2.8.2)\n",
      "Requirement already satisfied: zipp>=0.5 in c:\\users\\91762\\anaconda3\\anaconda\\lib\\site-packages (from importlib-metadata->fiona>=1.8.19->geopandas) (3.7.0)\n",
      "Requirement already satisfied: pyparsing!=3.0.5,>=2.0.2 in c:\\users\\91762\\anaconda3\\anaconda\\lib\\site-packages (from packaging->geopandas) (3.0.4)\n"
     ]
    }
   ],
   "source": [
    "!pip install geopandas\n",
    "import warnings\n",
    "warnings.filterwarnings('ignore')"
   ]
  },
  {
   "cell_type": "code",
   "execution_count": 23,
   "id": "64e794f6-f928-4968-b503-a0a08227e7b3",
   "metadata": {},
   "outputs": [
    {
     "data": {
      "text/html": [
       "<div>\n",
       "<style scoped>\n",
       "    .dataframe tbody tr th:only-of-type {\n",
       "        vertical-align: middle;\n",
       "    }\n",
       "\n",
       "    .dataframe tbody tr th {\n",
       "        vertical-align: top;\n",
       "    }\n",
       "\n",
       "    .dataframe thead th {\n",
       "        text-align: right;\n",
       "    }\n",
       "</style>\n",
       "<table border=\"1\" class=\"dataframe\">\n",
       "  <thead>\n",
       "    <tr style=\"text-align: right;\">\n",
       "      <th></th>\n",
       "      <th>state</th>\n",
       "      <th>city</th>\n",
       "      <th>state_ab</th>\n",
       "      <th>place</th>\n",
       "      <th>lat</th>\n",
       "      <th>lng</th>\n",
       "      <th>geometry</th>\n",
       "    </tr>\n",
       "  </thead>\n",
       "  <tbody>\n",
       "    <tr>\n",
       "      <th>11980</th>\n",
       "      <td>Massachusetts</td>\n",
       "      <td>Worcester</td>\n",
       "      <td>MA</td>\n",
       "      <td>Worcester City</td>\n",
       "      <td>42.254262</td>\n",
       "      <td>-71.800347</td>\n",
       "      <td>POINT (-71.80035 42.25426)</td>\n",
       "    </tr>\n",
       "    <tr>\n",
       "      <th>26018</th>\n",
       "      <td>New York</td>\n",
       "      <td>Corona</td>\n",
       "      <td>NY</td>\n",
       "      <td>Harbor Hills</td>\n",
       "      <td>40.751809</td>\n",
       "      <td>-73.853582</td>\n",
       "      <td>POINT (-73.85358 40.75181)</td>\n",
       "    </tr>\n",
       "    <tr>\n",
       "      <th>7829</th>\n",
       "      <td>Maryland</td>\n",
       "      <td>Glen Burnie</td>\n",
       "      <td>MD</td>\n",
       "      <td>Glen Burnie</td>\n",
       "      <td>39.127273</td>\n",
       "      <td>-76.635265</td>\n",
       "      <td>POINT (-76.63526 39.12727)</td>\n",
       "    </tr>\n",
       "    <tr>\n",
       "      <th>2077</th>\n",
       "      <td>Florida</td>\n",
       "      <td>Tampa</td>\n",
       "      <td>FL</td>\n",
       "      <td>Egypt Lake-leto</td>\n",
       "      <td>28.029063</td>\n",
       "      <td>-82.495395</td>\n",
       "      <td>POINT (-82.49540 28.02906)</td>\n",
       "    </tr>\n",
       "    <tr>\n",
       "      <th>1701</th>\n",
       "      <td>Illinois</td>\n",
       "      <td>Chicago</td>\n",
       "      <td>IL</td>\n",
       "      <td>Lincolnwood</td>\n",
       "      <td>41.967289</td>\n",
       "      <td>-87.652434</td>\n",
       "      <td>POINT (-87.65243 41.96729)</td>\n",
       "    </tr>\n",
       "    <tr>\n",
       "      <th>...</th>\n",
       "      <td>...</td>\n",
       "      <td>...</td>\n",
       "      <td>...</td>\n",
       "      <td>...</td>\n",
       "      <td>...</td>\n",
       "      <td>...</td>\n",
       "      <td>...</td>\n",
       "    </tr>\n",
       "    <tr>\n",
       "      <th>17914</th>\n",
       "      <td>North Carolina</td>\n",
       "      <td>Raleigh</td>\n",
       "      <td>NC</td>\n",
       "      <td>Raleigh City</td>\n",
       "      <td>35.757135</td>\n",
       "      <td>-78.704288</td>\n",
       "      <td>POINT (-78.70429 35.75713)</td>\n",
       "    </tr>\n",
       "    <tr>\n",
       "      <th>5478</th>\n",
       "      <td>California</td>\n",
       "      <td>Marina Del Rey</td>\n",
       "      <td>CA</td>\n",
       "      <td>Marina Del Rey</td>\n",
       "      <td>33.983204</td>\n",
       "      <td>-118.466139</td>\n",
       "      <td>POINT (-118.46614 33.98320)</td>\n",
       "    </tr>\n",
       "    <tr>\n",
       "      <th>25642</th>\n",
       "      <td>Maryland</td>\n",
       "      <td>Baltimore</td>\n",
       "      <td>MD</td>\n",
       "      <td>Lochearn</td>\n",
       "      <td>39.353095</td>\n",
       "      <td>-76.733315</td>\n",
       "      <td>POINT (-76.73331 39.35310)</td>\n",
       "    </tr>\n",
       "    <tr>\n",
       "      <th>26671</th>\n",
       "      <td>Pennsylvania</td>\n",
       "      <td>Philadelphia</td>\n",
       "      <td>PA</td>\n",
       "      <td>Philadelphia City</td>\n",
       "      <td>40.039070</td>\n",
       "      <td>-75.125135</td>\n",
       "      <td>POINT (-75.12514 40.03907)</td>\n",
       "    </tr>\n",
       "    <tr>\n",
       "      <th>24443</th>\n",
       "      <td>California</td>\n",
       "      <td>Manteca</td>\n",
       "      <td>CA</td>\n",
       "      <td>Manteca City</td>\n",
       "      <td>37.732143</td>\n",
       "      <td>-121.242902</td>\n",
       "      <td>POINT (-121.24290 37.73214)</td>\n",
       "    </tr>\n",
       "  </tbody>\n",
       "</table>\n",
       "<p>2500 rows × 7 columns</p>\n",
       "</div>"
      ],
      "text/plain": [
       "                state            city state_ab              place        lat  \\\n",
       "11980   Massachusetts       Worcester       MA     Worcester City  42.254262   \n",
       "26018        New York          Corona       NY       Harbor Hills  40.751809   \n",
       "7829         Maryland     Glen Burnie       MD        Glen Burnie  39.127273   \n",
       "2077          Florida           Tampa       FL    Egypt Lake-leto  28.029063   \n",
       "1701         Illinois         Chicago       IL        Lincolnwood  41.967289   \n",
       "...               ...             ...      ...                ...        ...   \n",
       "17914  North Carolina         Raleigh       NC       Raleigh City  35.757135   \n",
       "5478       California  Marina Del Rey       CA     Marina Del Rey  33.983204   \n",
       "25642        Maryland       Baltimore       MD           Lochearn  39.353095   \n",
       "26671    Pennsylvania    Philadelphia       PA  Philadelphia City  40.039070   \n",
       "24443      California         Manteca       CA       Manteca City  37.732143   \n",
       "\n",
       "              lng                     geometry  \n",
       "11980  -71.800347   POINT (-71.80035 42.25426)  \n",
       "26018  -73.853582   POINT (-73.85358 40.75181)  \n",
       "7829   -76.635265   POINT (-76.63526 39.12727)  \n",
       "2077   -82.495395   POINT (-82.49540 28.02906)  \n",
       "1701   -87.652434   POINT (-87.65243 41.96729)  \n",
       "...           ...                          ...  \n",
       "17914  -78.704288   POINT (-78.70429 35.75713)  \n",
       "5478  -118.466139  POINT (-118.46614 33.98320)  \n",
       "25642  -76.733315   POINT (-76.73331 39.35310)  \n",
       "26671  -75.125135   POINT (-75.12514 40.03907)  \n",
       "24443 -121.242902  POINT (-121.24290 37.73214)  \n",
       "\n",
       "[2500 rows x 7 columns]"
      ]
     },
     "execution_count": 23,
     "metadata": {},
     "output_type": "execute_result"
    }
   ],
   "source": [
    "import geopandas as gpd\n",
    "gdf = gpd.GeoDataFrame(top_2500_loc, geometry=gpd.points_from_xy(x=top_2500_loc.lng, y=top_2500_loc.lat))\n",
    "gdf"
   ]
  },
  {
   "cell_type": "markdown",
   "id": "b22c51e6-c554-49b5-9f24-24268fceb06a",
   "metadata": {},
   "source": [
    "b. Use the following bad debt equation: Bad Debt = P (Second Mortgage ∩ Home Equity Loan) Bad Debt = second_mortgage + home_equity - home_equity_second_mortgage"
   ]
  },
  {
   "cell_type": "code",
   "execution_count": 24,
   "id": "5ef5e95d-3cfb-4fa7-801b-d77212359105",
   "metadata": {},
   "outputs": [
    {
     "data": {
      "text/html": [
       "<div>\n",
       "<style scoped>\n",
       "    .dataframe tbody tr th:only-of-type {\n",
       "        vertical-align: middle;\n",
       "    }\n",
       "\n",
       "    .dataframe tbody tr th {\n",
       "        vertical-align: top;\n",
       "    }\n",
       "\n",
       "    .dataframe thead th {\n",
       "        text-align: right;\n",
       "    }\n",
       "</style>\n",
       "<table border=\"1\" class=\"dataframe\">\n",
       "  <thead>\n",
       "    <tr style=\"text-align: right;\">\n",
       "      <th></th>\n",
       "      <th>UID</th>\n",
       "      <th>SUMLEVEL</th>\n",
       "      <th>COUNTYID</th>\n",
       "      <th>STATEID</th>\n",
       "      <th>state</th>\n",
       "      <th>state_ab</th>\n",
       "      <th>city</th>\n",
       "      <th>place</th>\n",
       "      <th>type</th>\n",
       "      <th>primary</th>\n",
       "      <th>...</th>\n",
       "      <th>female_age_stdev</th>\n",
       "      <th>female_age_sample_weight</th>\n",
       "      <th>female_age_samples</th>\n",
       "      <th>pct_own</th>\n",
       "      <th>married</th>\n",
       "      <th>married_snp</th>\n",
       "      <th>separated</th>\n",
       "      <th>divorced</th>\n",
       "      <th>split</th>\n",
       "      <th>bad_debt</th>\n",
       "    </tr>\n",
       "  </thead>\n",
       "  <tbody>\n",
       "    <tr>\n",
       "      <th>0</th>\n",
       "      <td>267822</td>\n",
       "      <td>140</td>\n",
       "      <td>53</td>\n",
       "      <td>36</td>\n",
       "      <td>New York</td>\n",
       "      <td>NY</td>\n",
       "      <td>Hamilton</td>\n",
       "      <td>Hamilton</td>\n",
       "      <td>City</td>\n",
       "      <td>tract</td>\n",
       "      <td>...</td>\n",
       "      <td>22.51276</td>\n",
       "      <td>685.33845</td>\n",
       "      <td>2618.0</td>\n",
       "      <td>0.79046</td>\n",
       "      <td>0.57851</td>\n",
       "      <td>0.01882</td>\n",
       "      <td>0.01240</td>\n",
       "      <td>0.08770</td>\n",
       "      <td>Train</td>\n",
       "      <td>0.09408</td>\n",
       "    </tr>\n",
       "    <tr>\n",
       "      <th>1</th>\n",
       "      <td>246444</td>\n",
       "      <td>140</td>\n",
       "      <td>141</td>\n",
       "      <td>18</td>\n",
       "      <td>Indiana</td>\n",
       "      <td>IN</td>\n",
       "      <td>South Bend</td>\n",
       "      <td>Roseland</td>\n",
       "      <td>City</td>\n",
       "      <td>tract</td>\n",
       "      <td>...</td>\n",
       "      <td>23.43353</td>\n",
       "      <td>267.23367</td>\n",
       "      <td>1284.0</td>\n",
       "      <td>0.52483</td>\n",
       "      <td>0.34886</td>\n",
       "      <td>0.01426</td>\n",
       "      <td>0.01426</td>\n",
       "      <td>0.09030</td>\n",
       "      <td>Train</td>\n",
       "      <td>0.04274</td>\n",
       "    </tr>\n",
       "    <tr>\n",
       "      <th>2</th>\n",
       "      <td>245683</td>\n",
       "      <td>140</td>\n",
       "      <td>63</td>\n",
       "      <td>18</td>\n",
       "      <td>Indiana</td>\n",
       "      <td>IN</td>\n",
       "      <td>Danville</td>\n",
       "      <td>Danville</td>\n",
       "      <td>City</td>\n",
       "      <td>tract</td>\n",
       "      <td>...</td>\n",
       "      <td>23.94119</td>\n",
       "      <td>707.01963</td>\n",
       "      <td>3238.0</td>\n",
       "      <td>0.85331</td>\n",
       "      <td>0.64745</td>\n",
       "      <td>0.02830</td>\n",
       "      <td>0.01607</td>\n",
       "      <td>0.10657</td>\n",
       "      <td>Train</td>\n",
       "      <td>0.09512</td>\n",
       "    </tr>\n",
       "    <tr>\n",
       "      <th>3</th>\n",
       "      <td>279653</td>\n",
       "      <td>140</td>\n",
       "      <td>127</td>\n",
       "      <td>72</td>\n",
       "      <td>Puerto Rico</td>\n",
       "      <td>PR</td>\n",
       "      <td>San Juan</td>\n",
       "      <td>Guaynabo</td>\n",
       "      <td>Urban</td>\n",
       "      <td>tract</td>\n",
       "      <td>...</td>\n",
       "      <td>24.32015</td>\n",
       "      <td>362.20193</td>\n",
       "      <td>1559.0</td>\n",
       "      <td>0.65037</td>\n",
       "      <td>0.47257</td>\n",
       "      <td>0.02021</td>\n",
       "      <td>0.02021</td>\n",
       "      <td>0.10106</td>\n",
       "      <td>Train</td>\n",
       "      <td>0.01086</td>\n",
       "    </tr>\n",
       "    <tr>\n",
       "      <th>4</th>\n",
       "      <td>247218</td>\n",
       "      <td>140</td>\n",
       "      <td>161</td>\n",
       "      <td>20</td>\n",
       "      <td>Kansas</td>\n",
       "      <td>KS</td>\n",
       "      <td>Manhattan</td>\n",
       "      <td>Manhattan City</td>\n",
       "      <td>City</td>\n",
       "      <td>tract</td>\n",
       "      <td>...</td>\n",
       "      <td>11.10484</td>\n",
       "      <td>1854.48652</td>\n",
       "      <td>3051.0</td>\n",
       "      <td>0.13046</td>\n",
       "      <td>0.12356</td>\n",
       "      <td>0.00000</td>\n",
       "      <td>0.00000</td>\n",
       "      <td>0.03109</td>\n",
       "      <td>Train</td>\n",
       "      <td>0.05426</td>\n",
       "    </tr>\n",
       "  </tbody>\n",
       "</table>\n",
       "<p>5 rows × 81 columns</p>\n",
       "</div>"
      ],
      "text/plain": [
       "      UID  SUMLEVEL  COUNTYID  STATEID        state state_ab        city  \\\n",
       "0  267822       140        53       36     New York       NY    Hamilton   \n",
       "1  246444       140       141       18      Indiana       IN  South Bend   \n",
       "2  245683       140        63       18      Indiana       IN    Danville   \n",
       "3  279653       140       127       72  Puerto Rico       PR    San Juan   \n",
       "4  247218       140       161       20       Kansas       KS   Manhattan   \n",
       "\n",
       "            place   type primary  ...  female_age_stdev  \\\n",
       "0        Hamilton   City   tract  ...          22.51276   \n",
       "1        Roseland   City   tract  ...          23.43353   \n",
       "2        Danville   City   tract  ...          23.94119   \n",
       "3        Guaynabo  Urban   tract  ...          24.32015   \n",
       "4  Manhattan City   City   tract  ...          11.10484   \n",
       "\n",
       "   female_age_sample_weight  female_age_samples  pct_own  married  \\\n",
       "0                 685.33845              2618.0  0.79046  0.57851   \n",
       "1                 267.23367              1284.0  0.52483  0.34886   \n",
       "2                 707.01963              3238.0  0.85331  0.64745   \n",
       "3                 362.20193              1559.0  0.65037  0.47257   \n",
       "4                1854.48652              3051.0  0.13046  0.12356   \n",
       "\n",
       "   married_snp  separated  divorced  split  bad_debt  \n",
       "0      0.01882    0.01240   0.08770  Train   0.09408  \n",
       "1      0.01426    0.01426   0.09030  Train   0.04274  \n",
       "2      0.02830    0.01607   0.10657  Train   0.09512  \n",
       "3      0.02021    0.02021   0.10106  Train   0.01086  \n",
       "4      0.00000    0.00000   0.03109  Train   0.05426  \n",
       "\n",
       "[5 rows x 81 columns]"
      ]
     },
     "execution_count": 24,
     "metadata": {},
     "output_type": "execute_result"
    }
   ],
   "source": [
    "#Bad Debt = second_mortgage + home_equity - home_equity_second_mortgage\n",
    "df_combined['bad_debt'] = df_combined['second_mortgage'] + df_combined['home_equity'] - df_combined['home_equity_second_mortgage']\n",
    "df_combined.head()"
   ]
  },
  {
   "cell_type": "markdown",
   "id": "8471865a-4250-42a2-a1d6-45a175101347",
   "metadata": {},
   "source": [
    "c. Create pie charts to show overall debt and bad debt"
   ]
  },
  {
   "cell_type": "code",
   "execution_count": 25,
   "id": "69d0486f-d9e6-4199-b9cd-5c8d9d1db98c",
   "metadata": {},
   "outputs": [
    {
     "data": {
      "image/png": "[encoded data removed]",
      "text/plain": [
       "<Figure size 432x288 with 1 Axes>"
      ]
     },
     "metadata": {},
     "output_type": "display_data"
    }
   ],
   "source": [
    "import matplotlib.pyplot as plt\n",
    "labels = 'Debt', 'Bad_debt'\n",
    "sizes = [df_combined['debt'].mean()*100, df_combined['bad_debt'].mean()*100]\n",
    "colors = [ 'lightskyblue','red']\n",
    "explode = (0.1, 0)  # explode 1st slice\n",
    "\n",
    "#Plot\n",
    "plt.pie(sizes,explode=explode,labels=labels, colors=colors,\n",
    "autopct='%1.1f%%', shadow=True, startangle=140)\n",
    "\n",
    "plt.axis('equal')\n",
    "plt.show()"
   ]
  },
  {
   "cell_type": "markdown",
   "id": "ff0a7fa9-e396-473a-83b4-19d2ac019f6c",
   "metadata": {},
   "source": [
    "d. Create Box and whisker plot and analyze the distribution for 2nd mortgage, home equity, good debt, and bad debt for different cities"
   ]
  },
  {
   "cell_type": "code",
   "execution_count": 26,
   "id": "14f5a03a-851f-4383-a8aa-68d6b3ed52bd",
   "metadata": {},
   "outputs": [
    {
     "data": {
      "text/html": [
       "<div>\n",
       "<style scoped>\n",
       "    .dataframe tbody tr th:only-of-type {\n",
       "        vertical-align: middle;\n",
       "    }\n",
       "\n",
       "    .dataframe tbody tr th {\n",
       "        vertical-align: top;\n",
       "    }\n",
       "\n",
       "    .dataframe thead th {\n",
       "        text-align: right;\n",
       "    }\n",
       "</style>\n",
       "<table border=\"1\" class=\"dataframe\">\n",
       "  <thead>\n",
       "    <tr style=\"text-align: right;\">\n",
       "      <th></th>\n",
       "      <th>UID</th>\n",
       "      <th>SUMLEVEL</th>\n",
       "      <th>COUNTYID</th>\n",
       "      <th>STATEID</th>\n",
       "      <th>state</th>\n",
       "      <th>state_ab</th>\n",
       "      <th>city</th>\n",
       "      <th>place</th>\n",
       "      <th>type</th>\n",
       "      <th>primary</th>\n",
       "      <th>...</th>\n",
       "      <th>female_age_sample_weight</th>\n",
       "      <th>female_age_samples</th>\n",
       "      <th>pct_own</th>\n",
       "      <th>married</th>\n",
       "      <th>married_snp</th>\n",
       "      <th>separated</th>\n",
       "      <th>divorced</th>\n",
       "      <th>split</th>\n",
       "      <th>bad_debt</th>\n",
       "      <th>good_debt</th>\n",
       "    </tr>\n",
       "  </thead>\n",
       "  <tbody>\n",
       "    <tr>\n",
       "      <th>0</th>\n",
       "      <td>267822</td>\n",
       "      <td>140</td>\n",
       "      <td>53</td>\n",
       "      <td>36</td>\n",
       "      <td>New York</td>\n",
       "      <td>NY</td>\n",
       "      <td>Hamilton</td>\n",
       "      <td>Hamilton</td>\n",
       "      <td>City</td>\n",
       "      <td>tract</td>\n",
       "      <td>...</td>\n",
       "      <td>685.33845</td>\n",
       "      <td>2618.0</td>\n",
       "      <td>0.79046</td>\n",
       "      <td>0.57851</td>\n",
       "      <td>0.01882</td>\n",
       "      <td>0.01240</td>\n",
       "      <td>0.08770</td>\n",
       "      <td>Train</td>\n",
       "      <td>0.09408</td>\n",
       "      <td>0.43555</td>\n",
       "    </tr>\n",
       "    <tr>\n",
       "      <th>1</th>\n",
       "      <td>246444</td>\n",
       "      <td>140</td>\n",
       "      <td>141</td>\n",
       "      <td>18</td>\n",
       "      <td>Indiana</td>\n",
       "      <td>IN</td>\n",
       "      <td>South Bend</td>\n",
       "      <td>Roseland</td>\n",
       "      <td>City</td>\n",
       "      <td>tract</td>\n",
       "      <td>...</td>\n",
       "      <td>267.23367</td>\n",
       "      <td>1284.0</td>\n",
       "      <td>0.52483</td>\n",
       "      <td>0.34886</td>\n",
       "      <td>0.01426</td>\n",
       "      <td>0.01426</td>\n",
       "      <td>0.09030</td>\n",
       "      <td>Train</td>\n",
       "      <td>0.04274</td>\n",
       "      <td>0.56581</td>\n",
       "    </tr>\n",
       "    <tr>\n",
       "      <th>2</th>\n",
       "      <td>245683</td>\n",
       "      <td>140</td>\n",
       "      <td>63</td>\n",
       "      <td>18</td>\n",
       "      <td>Indiana</td>\n",
       "      <td>IN</td>\n",
       "      <td>Danville</td>\n",
       "      <td>Danville</td>\n",
       "      <td>City</td>\n",
       "      <td>tract</td>\n",
       "      <td>...</td>\n",
       "      <td>707.01963</td>\n",
       "      <td>3238.0</td>\n",
       "      <td>0.85331</td>\n",
       "      <td>0.64745</td>\n",
       "      <td>0.02830</td>\n",
       "      <td>0.01607</td>\n",
       "      <td>0.10657</td>\n",
       "      <td>Train</td>\n",
       "      <td>0.09512</td>\n",
       "      <td>0.63972</td>\n",
       "    </tr>\n",
       "    <tr>\n",
       "      <th>3</th>\n",
       "      <td>279653</td>\n",
       "      <td>140</td>\n",
       "      <td>127</td>\n",
       "      <td>72</td>\n",
       "      <td>Puerto Rico</td>\n",
       "      <td>PR</td>\n",
       "      <td>San Juan</td>\n",
       "      <td>Guaynabo</td>\n",
       "      <td>Urban</td>\n",
       "      <td>tract</td>\n",
       "      <td>...</td>\n",
       "      <td>362.20193</td>\n",
       "      <td>1559.0</td>\n",
       "      <td>0.65037</td>\n",
       "      <td>0.47257</td>\n",
       "      <td>0.02021</td>\n",
       "      <td>0.02021</td>\n",
       "      <td>0.10106</td>\n",
       "      <td>Train</td>\n",
       "      <td>0.01086</td>\n",
       "      <td>0.51628</td>\n",
       "    </tr>\n",
       "    <tr>\n",
       "      <th>4</th>\n",
       "      <td>247218</td>\n",
       "      <td>140</td>\n",
       "      <td>161</td>\n",
       "      <td>20</td>\n",
       "      <td>Kansas</td>\n",
       "      <td>KS</td>\n",
       "      <td>Manhattan</td>\n",
       "      <td>Manhattan City</td>\n",
       "      <td>City</td>\n",
       "      <td>tract</td>\n",
       "      <td>...</td>\n",
       "      <td>1854.48652</td>\n",
       "      <td>3051.0</td>\n",
       "      <td>0.13046</td>\n",
       "      <td>0.12356</td>\n",
       "      <td>0.00000</td>\n",
       "      <td>0.00000</td>\n",
       "      <td>0.03109</td>\n",
       "      <td>Train</td>\n",
       "      <td>0.05426</td>\n",
       "      <td>0.46512</td>\n",
       "    </tr>\n",
       "  </tbody>\n",
       "</table>\n",
       "<p>5 rows × 82 columns</p>\n",
       "</div>"
      ],
      "text/plain": [
       "      UID  SUMLEVEL  COUNTYID  STATEID        state state_ab        city  \\\n",
       "0  267822       140        53       36     New York       NY    Hamilton   \n",
       "1  246444       140       141       18      Indiana       IN  South Bend   \n",
       "2  245683       140        63       18      Indiana       IN    Danville   \n",
       "3  279653       140       127       72  Puerto Rico       PR    San Juan   \n",
       "4  247218       140       161       20       Kansas       KS   Manhattan   \n",
       "\n",
       "            place   type primary  ...  female_age_sample_weight  \\\n",
       "0        Hamilton   City   tract  ...                 685.33845   \n",
       "1        Roseland   City   tract  ...                 267.23367   \n",
       "2        Danville   City   tract  ...                 707.01963   \n",
       "3        Guaynabo  Urban   tract  ...                 362.20193   \n",
       "4  Manhattan City   City   tract  ...                1854.48652   \n",
       "\n",
       "   female_age_samples  pct_own  married  married_snp  separated  divorced  \\\n",
       "0              2618.0  0.79046  0.57851      0.01882    0.01240   0.08770   \n",
       "1              1284.0  0.52483  0.34886      0.01426    0.01426   0.09030   \n",
       "2              3238.0  0.85331  0.64745      0.02830    0.01607   0.10657   \n",
       "3              1559.0  0.65037  0.47257      0.02021    0.02021   0.10106   \n",
       "4              3051.0  0.13046  0.12356      0.00000    0.00000   0.03109   \n",
       "\n",
       "   split  bad_debt  good_debt  \n",
       "0  Train   0.09408    0.43555  \n",
       "1  Train   0.04274    0.56581  \n",
       "2  Train   0.09512    0.63972  \n",
       "3  Train   0.01086    0.51628  \n",
       "4  Train   0.05426    0.46512  \n",
       "\n",
       "[5 rows x 82 columns]"
      ]
     },
     "execution_count": 26,
     "metadata": {},
     "output_type": "execute_result"
    }
   ],
   "source": [
    "df_combined['good_debt']=df_combined['debt']-df_combined['bad_debt']\n",
    "df_combined.head()"
   ]
  },
  {
   "cell_type": "code",
   "execution_count": 27,
   "id": "1f6b98ae-25b0-432d-9ea2-2f1c49d1fec1",
   "metadata": {},
   "outputs": [
    {
     "data": {
      "image/png": "[encoded data removed]",
      "text/plain": [
       "<Figure size 864x576 with 1 Axes>"
      ]
     },
     "metadata": {
      "needs_background": "light"
     },
     "output_type": "display_data"
    }
   ],
   "source": [
    "all_cities = df_combined[['home_equity','second_mortgage','bad_debt', 'good_debt']]\n",
    "all_cities.plot.box(figsize=(12,8),grid=True)\n",
    "plt.title('All Cities')\n",
    "plt.show()"
   ]
  },
  {
   "cell_type": "code",
   "execution_count": 28,
   "id": "8847010a-c08e-45bc-9b54-89a1cf7f91bc",
   "metadata": {},
   "outputs": [
    {
     "data": {
      "image/png": "[encoded data removed]",
      "text/plain": [
       "<Figure size 864x576 with 1 Axes>"
      ]
     },
     "metadata": {
      "needs_background": "light"
     },
     "output_type": "display_data"
    }
   ],
   "source": [
    "hamilton = df_combined[df_combined['city']=='Hamilton']\n",
    "hamilton = hamilton[['home_equity','second_mortgage','bad_debt', 'good_debt']]\n",
    "hamilton.plot.box(figsize=(12,8),grid=True)\n",
    "plt.title('Hamilton')\n",
    "plt.show()"
   ]
  },
  {
   "cell_type": "code",
   "execution_count": 29,
   "id": "7fcf07a5-4bca-4725-8eb9-2b1d47e56e54",
   "metadata": {},
   "outputs": [
    {
     "data": {
      "image/png": "[encoded data removed]",
      "text/plain": [
       "<Figure size 864x576 with 1 Axes>"
      ]
     },
     "metadata": {
      "needs_background": "light"
     },
     "output_type": "display_data"
    }
   ],
   "source": [
    "Manhattan = df_combined[df_combined['city']=='Manhattan']\n",
    "Manhattan = Manhattan[['home_equity','second_mortgage','bad_debt', 'good_debt']]\n",
    "Manhattan.plot.box(figsize=(12,8),grid=True)\n",
    "plt.title('Manhattan')\n",
    "plt.show()"
   ]
  },
  {
   "cell_type": "markdown",
   "id": "fe078000-b8cf-4283-a515-a24a0702c92c",
   "metadata": {},
   "source": [
    "e. Create a collated income distribution chart for family income, house hold income, and remaining income"
   ]
  },
  {
   "cell_type": "code",
   "execution_count": 30,
   "id": "bcdf3d2f-e28d-47ac-886e-2ec7906e2f31",
   "metadata": {},
   "outputs": [
    {
     "data": {
      "image/png": "[encoded data removed]",
      "text/plain": [
       "<Figure size 1080x720 with 3 Axes>"
      ]
     },
     "metadata": {
      "needs_background": "light"
     },
     "output_type": "display_data"
    }
   ],
   "source": [
    "import seaborn as sns\n",
    "plt.figure(figsize=(15,10))\n",
    "\n",
    "plt.subplot(2,3,1)\n",
    "sns.distplot(df_train['family_mean'])\n",
    "plt.title('Family Income')\n",
    "plt.subplot(2,3,2)\n",
    "sns.distplot(df_train['hi_mean'])\n",
    "plt.title('Household Income')\n",
    "plt.subplot(2,3,3)\n",
    "sns.distplot(df_train['family_mean']-df_train['hi_mean'])\n",
    "plt.title('Remaining income distribution chart')\n",
    "plt.show()"
   ]
  },
  {
   "cell_type": "markdown",
   "id": "92a71a14-d1dc-4e54-a833-791aa3f85f61",
   "metadata": {},
   "source": [
    "Project Task: Week 2 Exploratory Data Analysis (EDA):\n",
    "\n",
    "Perform EDA and come out with insights into population density and age. You may have to derive new fields (make sure to weight averages for accurate measurements):\n",
    "a. Use pop and ALand variables to create a new field called population density"
   ]
  },
  {
   "cell_type": "code",
   "execution_count": 31,
   "id": "fb7f7408-519c-4828-939a-670fe15503ce",
   "metadata": {},
   "outputs": [],
   "source": [
    "df_combined['population_density'] = df_combined['pop']/df_combined['ALand']\n"
   ]
  },
  {
   "cell_type": "code",
   "execution_count": 32,
   "id": "c9db6b6b-2121-48e3-b1df-c8220b1d0fef",
   "metadata": {},
   "outputs": [
    {
     "data": {
      "text/html": [
       "<div>\n",
       "<style scoped>\n",
       "    .dataframe tbody tr th:only-of-type {\n",
       "        vertical-align: middle;\n",
       "    }\n",
       "\n",
       "    .dataframe tbody tr th {\n",
       "        vertical-align: top;\n",
       "    }\n",
       "\n",
       "    .dataframe thead th {\n",
       "        text-align: right;\n",
       "    }\n",
       "</style>\n",
       "<table border=\"1\" class=\"dataframe\">\n",
       "  <thead>\n",
       "    <tr style=\"text-align: right;\">\n",
       "      <th></th>\n",
       "      <th>UID</th>\n",
       "      <th>SUMLEVEL</th>\n",
       "      <th>COUNTYID</th>\n",
       "      <th>STATEID</th>\n",
       "      <th>state</th>\n",
       "      <th>state_ab</th>\n",
       "      <th>city</th>\n",
       "      <th>place</th>\n",
       "      <th>type</th>\n",
       "      <th>primary</th>\n",
       "      <th>...</th>\n",
       "      <th>female_age_samples</th>\n",
       "      <th>pct_own</th>\n",
       "      <th>married</th>\n",
       "      <th>married_snp</th>\n",
       "      <th>separated</th>\n",
       "      <th>divorced</th>\n",
       "      <th>split</th>\n",
       "      <th>bad_debt</th>\n",
       "      <th>good_debt</th>\n",
       "      <th>population_density</th>\n",
       "    </tr>\n",
       "  </thead>\n",
       "  <tbody>\n",
       "    <tr>\n",
       "      <th>0</th>\n",
       "      <td>267822</td>\n",
       "      <td>140</td>\n",
       "      <td>53</td>\n",
       "      <td>36</td>\n",
       "      <td>New York</td>\n",
       "      <td>NY</td>\n",
       "      <td>Hamilton</td>\n",
       "      <td>Hamilton</td>\n",
       "      <td>City</td>\n",
       "      <td>tract</td>\n",
       "      <td>...</td>\n",
       "      <td>2618.0</td>\n",
       "      <td>0.79046</td>\n",
       "      <td>0.57851</td>\n",
       "      <td>0.01882</td>\n",
       "      <td>0.01240</td>\n",
       "      <td>0.08770</td>\n",
       "      <td>Train</td>\n",
       "      <td>0.09408</td>\n",
       "      <td>0.43555</td>\n",
       "      <td>0.000026</td>\n",
       "    </tr>\n",
       "    <tr>\n",
       "      <th>1</th>\n",
       "      <td>246444</td>\n",
       "      <td>140</td>\n",
       "      <td>141</td>\n",
       "      <td>18</td>\n",
       "      <td>Indiana</td>\n",
       "      <td>IN</td>\n",
       "      <td>South Bend</td>\n",
       "      <td>Roseland</td>\n",
       "      <td>City</td>\n",
       "      <td>tract</td>\n",
       "      <td>...</td>\n",
       "      <td>1284.0</td>\n",
       "      <td>0.52483</td>\n",
       "      <td>0.34886</td>\n",
       "      <td>0.01426</td>\n",
       "      <td>0.01426</td>\n",
       "      <td>0.09030</td>\n",
       "      <td>Train</td>\n",
       "      <td>0.04274</td>\n",
       "      <td>0.56581</td>\n",
       "      <td>0.001687</td>\n",
       "    </tr>\n",
       "    <tr>\n",
       "      <th>2</th>\n",
       "      <td>245683</td>\n",
       "      <td>140</td>\n",
       "      <td>63</td>\n",
       "      <td>18</td>\n",
       "      <td>Indiana</td>\n",
       "      <td>IN</td>\n",
       "      <td>Danville</td>\n",
       "      <td>Danville</td>\n",
       "      <td>City</td>\n",
       "      <td>tract</td>\n",
       "      <td>...</td>\n",
       "      <td>3238.0</td>\n",
       "      <td>0.85331</td>\n",
       "      <td>0.64745</td>\n",
       "      <td>0.02830</td>\n",
       "      <td>0.01607</td>\n",
       "      <td>0.10657</td>\n",
       "      <td>Train</td>\n",
       "      <td>0.09512</td>\n",
       "      <td>0.63972</td>\n",
       "      <td>0.000099</td>\n",
       "    </tr>\n",
       "    <tr>\n",
       "      <th>3</th>\n",
       "      <td>279653</td>\n",
       "      <td>140</td>\n",
       "      <td>127</td>\n",
       "      <td>72</td>\n",
       "      <td>Puerto Rico</td>\n",
       "      <td>PR</td>\n",
       "      <td>San Juan</td>\n",
       "      <td>Guaynabo</td>\n",
       "      <td>Urban</td>\n",
       "      <td>tract</td>\n",
       "      <td>...</td>\n",
       "      <td>1559.0</td>\n",
       "      <td>0.65037</td>\n",
       "      <td>0.47257</td>\n",
       "      <td>0.02021</td>\n",
       "      <td>0.02021</td>\n",
       "      <td>0.10106</td>\n",
       "      <td>Train</td>\n",
       "      <td>0.01086</td>\n",
       "      <td>0.51628</td>\n",
       "      <td>0.002442</td>\n",
       "    </tr>\n",
       "    <tr>\n",
       "      <th>4</th>\n",
       "      <td>247218</td>\n",
       "      <td>140</td>\n",
       "      <td>161</td>\n",
       "      <td>20</td>\n",
       "      <td>Kansas</td>\n",
       "      <td>KS</td>\n",
       "      <td>Manhattan</td>\n",
       "      <td>Manhattan City</td>\n",
       "      <td>City</td>\n",
       "      <td>tract</td>\n",
       "      <td>...</td>\n",
       "      <td>3051.0</td>\n",
       "      <td>0.13046</td>\n",
       "      <td>0.12356</td>\n",
       "      <td>0.00000</td>\n",
       "      <td>0.00000</td>\n",
       "      <td>0.03109</td>\n",
       "      <td>Train</td>\n",
       "      <td>0.05426</td>\n",
       "      <td>0.46512</td>\n",
       "      <td>0.002207</td>\n",
       "    </tr>\n",
       "  </tbody>\n",
       "</table>\n",
       "<p>5 rows × 83 columns</p>\n",
       "</div>"
      ],
      "text/plain": [
       "      UID  SUMLEVEL  COUNTYID  STATEID        state state_ab        city  \\\n",
       "0  267822       140        53       36     New York       NY    Hamilton   \n",
       "1  246444       140       141       18      Indiana       IN  South Bend   \n",
       "2  245683       140        63       18      Indiana       IN    Danville   \n",
       "3  279653       140       127       72  Puerto Rico       PR    San Juan   \n",
       "4  247218       140       161       20       Kansas       KS   Manhattan   \n",
       "\n",
       "            place   type primary  ...  female_age_samples  pct_own  married  \\\n",
       "0        Hamilton   City   tract  ...              2618.0  0.79046  0.57851   \n",
       "1        Roseland   City   tract  ...              1284.0  0.52483  0.34886   \n",
       "2        Danville   City   tract  ...              3238.0  0.85331  0.64745   \n",
       "3        Guaynabo  Urban   tract  ...              1559.0  0.65037  0.47257   \n",
       "4  Manhattan City   City   tract  ...              3051.0  0.13046  0.12356   \n",
       "\n",
       "   married_snp  separated  divorced  split  bad_debt  good_debt  \\\n",
       "0      0.01882    0.01240   0.08770  Train   0.09408    0.43555   \n",
       "1      0.01426    0.01426   0.09030  Train   0.04274    0.56581   \n",
       "2      0.02830    0.01607   0.10657  Train   0.09512    0.63972   \n",
       "3      0.02021    0.02021   0.10106  Train   0.01086    0.51628   \n",
       "4      0.00000    0.00000   0.03109  Train   0.05426    0.46512   \n",
       "\n",
       "   population_density  \n",
       "0            0.000026  \n",
       "1            0.001687  \n",
       "2            0.000099  \n",
       "3            0.002442  \n",
       "4            0.002207  \n",
       "\n",
       "[5 rows x 83 columns]"
      ]
     },
     "execution_count": 32,
     "metadata": {},
     "output_type": "execute_result"
    }
   ],
   "source": [
    "df_combined.head()"
   ]
  },
  {
   "cell_type": "markdown",
   "id": "47757fd1-00ba-44e4-8c1d-4d43b4c991bb",
   "metadata": {},
   "source": [
    "b. Use male_age_median, female_age_median, male_pop, and female_pop to create a new field called median age \n"
   ]
  },
  {
   "cell_type": "code",
   "execution_count": 33,
   "id": "a94a0a46-383f-4983-9976-e0884c3dbeed",
   "metadata": {},
   "outputs": [],
   "source": [
    "df_combined['median_age']=((df_combined['male_age_median'] * df_combined['male_pop'])+(df_combined['female_age_median']*df_combined['female_pop']))/(df_combined['male_pop']+df_combined['female_pop'])\n"
   ]
  },
  {
   "cell_type": "code",
   "execution_count": 34,
   "id": "a8f4b892-8e26-4e70-93c2-1962f84ff51e",
   "metadata": {},
   "outputs": [
    {
     "data": {
      "text/html": [
       "<div>\n",
       "<style scoped>\n",
       "    .dataframe tbody tr th:only-of-type {\n",
       "        vertical-align: middle;\n",
       "    }\n",
       "\n",
       "    .dataframe tbody tr th {\n",
       "        vertical-align: top;\n",
       "    }\n",
       "\n",
       "    .dataframe thead th {\n",
       "        text-align: right;\n",
       "    }\n",
       "</style>\n",
       "<table border=\"1\" class=\"dataframe\">\n",
       "  <thead>\n",
       "    <tr style=\"text-align: right;\">\n",
       "      <th></th>\n",
       "      <th>UID</th>\n",
       "      <th>SUMLEVEL</th>\n",
       "      <th>COUNTYID</th>\n",
       "      <th>STATEID</th>\n",
       "      <th>state</th>\n",
       "      <th>state_ab</th>\n",
       "      <th>city</th>\n",
       "      <th>place</th>\n",
       "      <th>type</th>\n",
       "      <th>primary</th>\n",
       "      <th>...</th>\n",
       "      <th>pct_own</th>\n",
       "      <th>married</th>\n",
       "      <th>married_snp</th>\n",
       "      <th>separated</th>\n",
       "      <th>divorced</th>\n",
       "      <th>split</th>\n",
       "      <th>bad_debt</th>\n",
       "      <th>good_debt</th>\n",
       "      <th>population_density</th>\n",
       "      <th>median_age</th>\n",
       "    </tr>\n",
       "  </thead>\n",
       "  <tbody>\n",
       "    <tr>\n",
       "      <th>0</th>\n",
       "      <td>267822</td>\n",
       "      <td>140</td>\n",
       "      <td>53</td>\n",
       "      <td>36</td>\n",
       "      <td>New York</td>\n",
       "      <td>NY</td>\n",
       "      <td>Hamilton</td>\n",
       "      <td>Hamilton</td>\n",
       "      <td>City</td>\n",
       "      <td>tract</td>\n",
       "      <td>...</td>\n",
       "      <td>0.79046</td>\n",
       "      <td>0.57851</td>\n",
       "      <td>0.01882</td>\n",
       "      <td>0.01240</td>\n",
       "      <td>0.08770</td>\n",
       "      <td>Train</td>\n",
       "      <td>0.09408</td>\n",
       "      <td>0.43555</td>\n",
       "      <td>0.000026</td>\n",
       "      <td>44.667430</td>\n",
       "    </tr>\n",
       "    <tr>\n",
       "      <th>1</th>\n",
       "      <td>246444</td>\n",
       "      <td>140</td>\n",
       "      <td>141</td>\n",
       "      <td>18</td>\n",
       "      <td>Indiana</td>\n",
       "      <td>IN</td>\n",
       "      <td>South Bend</td>\n",
       "      <td>Roseland</td>\n",
       "      <td>City</td>\n",
       "      <td>tract</td>\n",
       "      <td>...</td>\n",
       "      <td>0.52483</td>\n",
       "      <td>0.34886</td>\n",
       "      <td>0.01426</td>\n",
       "      <td>0.01426</td>\n",
       "      <td>0.09030</td>\n",
       "      <td>Train</td>\n",
       "      <td>0.04274</td>\n",
       "      <td>0.56581</td>\n",
       "      <td>0.001687</td>\n",
       "      <td>34.722748</td>\n",
       "    </tr>\n",
       "    <tr>\n",
       "      <th>2</th>\n",
       "      <td>245683</td>\n",
       "      <td>140</td>\n",
       "      <td>63</td>\n",
       "      <td>18</td>\n",
       "      <td>Indiana</td>\n",
       "      <td>IN</td>\n",
       "      <td>Danville</td>\n",
       "      <td>Danville</td>\n",
       "      <td>City</td>\n",
       "      <td>tract</td>\n",
       "      <td>...</td>\n",
       "      <td>0.85331</td>\n",
       "      <td>0.64745</td>\n",
       "      <td>0.02830</td>\n",
       "      <td>0.01607</td>\n",
       "      <td>0.10657</td>\n",
       "      <td>Train</td>\n",
       "      <td>0.09512</td>\n",
       "      <td>0.63972</td>\n",
       "      <td>0.000099</td>\n",
       "      <td>41.774472</td>\n",
       "    </tr>\n",
       "    <tr>\n",
       "      <th>3</th>\n",
       "      <td>279653</td>\n",
       "      <td>140</td>\n",
       "      <td>127</td>\n",
       "      <td>72</td>\n",
       "      <td>Puerto Rico</td>\n",
       "      <td>PR</td>\n",
       "      <td>San Juan</td>\n",
       "      <td>Guaynabo</td>\n",
       "      <td>Urban</td>\n",
       "      <td>tract</td>\n",
       "      <td>...</td>\n",
       "      <td>0.65037</td>\n",
       "      <td>0.47257</td>\n",
       "      <td>0.02021</td>\n",
       "      <td>0.02021</td>\n",
       "      <td>0.10106</td>\n",
       "      <td>Train</td>\n",
       "      <td>0.01086</td>\n",
       "      <td>0.51628</td>\n",
       "      <td>0.002442</td>\n",
       "      <td>49.879012</td>\n",
       "    </tr>\n",
       "    <tr>\n",
       "      <th>4</th>\n",
       "      <td>247218</td>\n",
       "      <td>140</td>\n",
       "      <td>161</td>\n",
       "      <td>20</td>\n",
       "      <td>Kansas</td>\n",
       "      <td>KS</td>\n",
       "      <td>Manhattan</td>\n",
       "      <td>Manhattan City</td>\n",
       "      <td>City</td>\n",
       "      <td>tract</td>\n",
       "      <td>...</td>\n",
       "      <td>0.13046</td>\n",
       "      <td>0.12356</td>\n",
       "      <td>0.00000</td>\n",
       "      <td>0.00000</td>\n",
       "      <td>0.03109</td>\n",
       "      <td>Train</td>\n",
       "      <td>0.05426</td>\n",
       "      <td>0.46512</td>\n",
       "      <td>0.002207</td>\n",
       "      <td>21.965629</td>\n",
       "    </tr>\n",
       "  </tbody>\n",
       "</table>\n",
       "<p>5 rows × 84 columns</p>\n",
       "</div>"
      ],
      "text/plain": [
       "      UID  SUMLEVEL  COUNTYID  STATEID        state state_ab        city  \\\n",
       "0  267822       140        53       36     New York       NY    Hamilton   \n",
       "1  246444       140       141       18      Indiana       IN  South Bend   \n",
       "2  245683       140        63       18      Indiana       IN    Danville   \n",
       "3  279653       140       127       72  Puerto Rico       PR    San Juan   \n",
       "4  247218       140       161       20       Kansas       KS   Manhattan   \n",
       "\n",
       "            place   type primary  ...  pct_own  married  married_snp  \\\n",
       "0        Hamilton   City   tract  ...  0.79046  0.57851      0.01882   \n",
       "1        Roseland   City   tract  ...  0.52483  0.34886      0.01426   \n",
       "2        Danville   City   tract  ...  0.85331  0.64745      0.02830   \n",
       "3        Guaynabo  Urban   tract  ...  0.65037  0.47257      0.02021   \n",
       "4  Manhattan City   City   tract  ...  0.13046  0.12356      0.00000   \n",
       "\n",
       "   separated  divorced  split  bad_debt  good_debt  population_density  \\\n",
       "0    0.01240   0.08770  Train   0.09408    0.43555            0.000026   \n",
       "1    0.01426   0.09030  Train   0.04274    0.56581            0.001687   \n",
       "2    0.01607   0.10657  Train   0.09512    0.63972            0.000099   \n",
       "3    0.02021   0.10106  Train   0.01086    0.51628            0.002442   \n",
       "4    0.00000   0.03109  Train   0.05426    0.46512            0.002207   \n",
       "\n",
       "   median_age  \n",
       "0   44.667430  \n",
       "1   34.722748  \n",
       "2   41.774472  \n",
       "3   49.879012  \n",
       "4   21.965629  \n",
       "\n",
       "[5 rows x 84 columns]"
      ]
     },
     "execution_count": 34,
     "metadata": {},
     "output_type": "execute_result"
    }
   ],
   "source": [
    "df_combined.head()\n"
   ]
  },
  {
   "cell_type": "markdown",
   "id": "2fe82993-de6e-42c7-83d5-3b2b1f316d6e",
   "metadata": {},
   "source": [
    "c. Visualize the findings using appropriate chart type\n"
   ]
  },
  {
   "cell_type": "code",
   "execution_count": 35,
   "id": "778e92b9-3471-4b11-b9bf-47fa67093e25",
   "metadata": {},
   "outputs": [
    {
     "data": {
      "text/plain": [
       "<AxesSubplot: xlabel='population_density', ylabel='Count'>"
      ]
     },
     "execution_count": 35,
     "metadata": {},
     "output_type": "execute_result"
    },
    {
     "data": {
      "image/png": "[encoded data removed]",
      "text/plain": [
       "<Figure size 432x288 with 1 Axes>"
      ]
     },
     "metadata": {
      "needs_background": "light"
     },
     "output_type": "display_data"
    }
   ],
   "source": [
    "sns.histplot(df_combined['population_density'], bins=50)\n"
   ]
  },
  {
   "cell_type": "code",
   "execution_count": 36,
   "id": "fd28e1ac-5aa0-442b-8211-c9936b63dfab",
   "metadata": {},
   "outputs": [
    {
     "data": {
      "image/png": "[encoded data removed]",
      "text/plain": [
       "<Figure size 1080x720 with 2 Axes>"
      ]
     },
     "metadata": {
      "needs_background": "light"
     },
     "output_type": "display_data"
    }
   ],
   "source": [
    "plt.figure(figsize=(15,10))\n",
    "plt.subplot(2,2,1)\n",
    "sns.distplot(df_combined['median_age'])\n",
    "plt.title('Median Age')\n",
    "plt.subplot(2,2,2)\n",
    "sns.boxplot(df_combined['median_age'])\n",
    "plt.title('Population Density')\n",
    "plt.show()"
   ]
  },
  {
   "cell_type": "markdown",
   "id": "81b1c0a6-a62a-47b9-9233-038ff1417845",
   "metadata": {},
   "source": [
    "2. Create bins for population into a new variable by selecting appropriate class interval so that the number of categories don’t exceed 5 for the ease of analysis.\n"
   ]
  },
  {
   "cell_type": "code",
   "execution_count": 37,
   "id": "6c9d0818-7e1d-4341-983e-0aa3f9e68127",
   "metadata": {},
   "outputs": [
    {
     "data": {
      "text/plain": [
       "very low     38350\n",
       "low            348\n",
       "medium          12\n",
       "high             4\n",
       "very high        1\n",
       "Name: pop_bins, dtype: int64"
      ]
     },
     "execution_count": 37,
     "metadata": {},
     "output_type": "execute_result"
    }
   ],
   "source": [
    "df_combined['pop_bins']=pd.cut(df_combined['pop'],bins=5,labels=['very low','low','medium','high','very high'])\n",
    "df_combined['pop_bins'].value_counts()"
   ]
  },
  {
   "cell_type": "markdown",
   "id": "461533e3-7571-4c2e-9a09-1bebe9ef8ed1",
   "metadata": {},
   "source": [
    "a. Analyze the married, separated, and divorced population for these population brackets \n"
   ]
  },
  {
   "cell_type": "code",
   "execution_count": 38,
   "id": "6695d005-db25-4d69-97d3-447997d1563b",
   "metadata": {},
   "outputs": [
    {
     "data": {
      "text/html": [
       "<div>\n",
       "<style scoped>\n",
       "    .dataframe tbody tr th:only-of-type {\n",
       "        vertical-align: middle;\n",
       "    }\n",
       "\n",
       "    .dataframe tbody tr th {\n",
       "        vertical-align: top;\n",
       "    }\n",
       "\n",
       "    .dataframe thead th {\n",
       "        text-align: right;\n",
       "    }\n",
       "</style>\n",
       "<table border=\"1\" class=\"dataframe\">\n",
       "  <thead>\n",
       "    <tr style=\"text-align: right;\">\n",
       "      <th></th>\n",
       "      <th>married</th>\n",
       "      <th>separated</th>\n",
       "      <th>divorced</th>\n",
       "    </tr>\n",
       "    <tr>\n",
       "      <th>pop_bins</th>\n",
       "      <th></th>\n",
       "      <th></th>\n",
       "      <th></th>\n",
       "    </tr>\n",
       "  </thead>\n",
       "  <tbody>\n",
       "    <tr>\n",
       "      <th>very low</th>\n",
       "      <td>38350</td>\n",
       "      <td>38350</td>\n",
       "      <td>38350</td>\n",
       "    </tr>\n",
       "    <tr>\n",
       "      <th>low</th>\n",
       "      <td>348</td>\n",
       "      <td>348</td>\n",
       "      <td>348</td>\n",
       "    </tr>\n",
       "    <tr>\n",
       "      <th>medium</th>\n",
       "      <td>12</td>\n",
       "      <td>12</td>\n",
       "      <td>12</td>\n",
       "    </tr>\n",
       "    <tr>\n",
       "      <th>high</th>\n",
       "      <td>4</td>\n",
       "      <td>4</td>\n",
       "      <td>4</td>\n",
       "    </tr>\n",
       "    <tr>\n",
       "      <th>very high</th>\n",
       "      <td>1</td>\n",
       "      <td>1</td>\n",
       "      <td>1</td>\n",
       "    </tr>\n",
       "  </tbody>\n",
       "</table>\n",
       "</div>"
      ],
      "text/plain": [
       "           married  separated  divorced\n",
       "pop_bins                               \n",
       "very low     38350      38350     38350\n",
       "low            348        348       348\n",
       "medium          12         12        12\n",
       "high             4          4         4\n",
       "very high        1          1         1"
      ]
     },
     "execution_count": 38,
     "metadata": {},
     "output_type": "execute_result"
    }
   ],
   "source": [
    "df_combined.groupby(by='pop_bins')[['married','separated','divorced']].count()\n"
   ]
  },
  {
   "cell_type": "code",
   "execution_count": 39,
   "id": "4e664475-cddb-451e-baab-3c0a59f500be",
   "metadata": {},
   "outputs": [
    {
     "data": {
      "text/html": [
       "<div>\n",
       "<style scoped>\n",
       "    .dataframe tbody tr th:only-of-type {\n",
       "        vertical-align: middle;\n",
       "    }\n",
       "\n",
       "    .dataframe tbody tr th {\n",
       "        vertical-align: top;\n",
       "    }\n",
       "\n",
       "    .dataframe thead tr th {\n",
       "        text-align: left;\n",
       "    }\n",
       "\n",
       "    .dataframe thead tr:last-of-type th {\n",
       "        text-align: right;\n",
       "    }\n",
       "</style>\n",
       "<table border=\"1\" class=\"dataframe\">\n",
       "  <thead>\n",
       "    <tr>\n",
       "      <th></th>\n",
       "      <th colspan=\"2\" halign=\"left\">married</th>\n",
       "      <th colspan=\"2\" halign=\"left\">separated</th>\n",
       "      <th colspan=\"2\" halign=\"left\">divorced</th>\n",
       "    </tr>\n",
       "    <tr>\n",
       "      <th></th>\n",
       "      <th>mean</th>\n",
       "      <th>median</th>\n",
       "      <th>mean</th>\n",
       "      <th>median</th>\n",
       "      <th>mean</th>\n",
       "      <th>median</th>\n",
       "    </tr>\n",
       "    <tr>\n",
       "      <th>pop_bins</th>\n",
       "      <th></th>\n",
       "      <th></th>\n",
       "      <th></th>\n",
       "      <th></th>\n",
       "      <th></th>\n",
       "      <th></th>\n",
       "    </tr>\n",
       "  </thead>\n",
       "  <tbody>\n",
       "    <tr>\n",
       "      <th>very low</th>\n",
       "      <td>0.508000</td>\n",
       "      <td>0.526210</td>\n",
       "      <td>0.019127</td>\n",
       "      <td>0.013580</td>\n",
       "      <td>0.100325</td>\n",
       "      <td>0.09510</td>\n",
       "    </tr>\n",
       "    <tr>\n",
       "      <th>low</th>\n",
       "      <td>0.589247</td>\n",
       "      <td>0.601815</td>\n",
       "      <td>0.014929</td>\n",
       "      <td>0.010255</td>\n",
       "      <td>0.075192</td>\n",
       "      <td>0.06934</td>\n",
       "    </tr>\n",
       "    <tr>\n",
       "      <th>medium</th>\n",
       "      <td>0.617047</td>\n",
       "      <td>0.605765</td>\n",
       "      <td>0.011203</td>\n",
       "      <td>0.007745</td>\n",
       "      <td>0.071870</td>\n",
       "      <td>0.06909</td>\n",
       "    </tr>\n",
       "    <tr>\n",
       "      <th>high</th>\n",
       "      <td>0.629132</td>\n",
       "      <td>0.675095</td>\n",
       "      <td>0.012372</td>\n",
       "      <td>0.007340</td>\n",
       "      <td>0.060562</td>\n",
       "      <td>0.05987</td>\n",
       "    </tr>\n",
       "    <tr>\n",
       "      <th>very high</th>\n",
       "      <td>0.734740</td>\n",
       "      <td>0.734740</td>\n",
       "      <td>0.004050</td>\n",
       "      <td>0.004050</td>\n",
       "      <td>0.030360</td>\n",
       "      <td>0.03036</td>\n",
       "    </tr>\n",
       "  </tbody>\n",
       "</table>\n",
       "</div>"
      ],
      "text/plain": [
       "            married           separated            divorced         \n",
       "               mean    median      mean    median      mean   median\n",
       "pop_bins                                                            \n",
       "very low   0.508000  0.526210  0.019127  0.013580  0.100325  0.09510\n",
       "low        0.589247  0.601815  0.014929  0.010255  0.075192  0.06934\n",
       "medium     0.617047  0.605765  0.011203  0.007745  0.071870  0.06909\n",
       "high       0.629132  0.675095  0.012372  0.007340  0.060562  0.05987\n",
       "very high  0.734740  0.734740  0.004050  0.004050  0.030360  0.03036"
      ]
     },
     "execution_count": 39,
     "metadata": {},
     "output_type": "execute_result"
    }
   ],
   "source": [
    "df_combined.groupby(by='pop_bins')[['married','separated','divorced']].agg([\"mean\", \"median\"])\n"
   ]
  },
  {
   "cell_type": "markdown",
   "id": "d907d4e1-17f1-4060-81a1-9dbbcc03ce69",
   "metadata": {},
   "source": [
    "b. Visualize using appropriate chart type\n"
   ]
  },
  {
   "cell_type": "code",
   "execution_count": 40,
   "id": "304deac4-f06a-4c4f-a0b9-41f5c3edfdb9",
   "metadata": {},
   "outputs": [
    {
     "data": {
      "text/plain": [
       "<Figure size 864x576 with 0 Axes>"
      ]
     },
     "metadata": {},
     "output_type": "display_data"
    },
    {
     "data": {
      "image/png": "[encoded data removed]",
      "text/plain": [
       "<Figure size 864x576 with 1 Axes>"
      ]
     },
     "metadata": {
      "needs_background": "light"
     },
     "output_type": "display_data"
    }
   ],
   "source": [
    "plt.figure(figsize=(12,8))\n",
    "pop_bin_married=df_combined.groupby(by='pop_bins')[['married','separated','divorced']].agg([\"mean\"])\n",
    "pop_bin_married.plot(figsize=(12,8))\n",
    "plt.legend(loc='best')\n",
    "plt.show()"
   ]
  },
  {
   "cell_type": "code",
   "execution_count": 41,
   "id": "4d0dc34e-b271-434a-b0da-15ffa8590f27",
   "metadata": {},
   "outputs": [
    {
     "data": {
      "image/png": "[encoded data removed]",
      "text/plain": [
       "<Figure size 864x576 with 1 Axes>"
      ]
     },
     "metadata": {
      "needs_background": "light"
     },
     "output_type": "display_data"
    },
    {
     "data": {
      "image/png": "[encoded data removed]",
      "text/plain": [
       "<Figure size 864x576 with 1 Axes>"
      ]
     },
     "metadata": {
      "needs_background": "light"
     },
     "output_type": "display_data"
    },
    {
     "data": {
      "image/png": "[encoded data removed]",
      "text/plain": [
       "<Figure size 864x576 with 1 Axes>"
      ]
     },
     "metadata": {
      "needs_background": "light"
     },
     "output_type": "display_data"
    },
    {
     "data": {
      "image/png": "[encoded data removed]",
      "text/plain": [
       "<Figure size 864x576 with 1 Axes>"
      ]
     },
     "metadata": {
      "needs_background": "light"
     },
     "output_type": "display_data"
    },
    {
     "data": {
      "image/png": "[encoded data removed]",
      "text/plain": [
       "<Figure size 864x576 with 1 Axes>"
      ]
     },
     "metadata": {
      "needs_background": "light"
     },
     "output_type": "display_data"
    }
   ],
   "source": [
    "df_combined.groupby(by='pop_bins')[['married','divorced', 'separated']].plot.box(figsize=(12,8),grid='True')\n",
    "plt.show()"
   ]
  },
  {
   "cell_type": "markdown",
   "id": "a60b071d-09d5-499c-b415-71cbcbc5c87f",
   "metadata": {},
   "source": [
    "3. Please detail your observations for rent as a percentage of income at an overall level, and for different states.\n"
   ]
  },
  {
   "cell_type": "code",
   "execution_count": 42,
   "id": "0c930fc9-1877-4e08-bdaf-c415641835db",
   "metadata": {},
   "outputs": [
    {
     "data": {
      "text/html": [
       "<div>\n",
       "<style scoped>\n",
       "    .dataframe tbody tr th:only-of-type {\n",
       "        vertical-align: middle;\n",
       "    }\n",
       "\n",
       "    .dataframe tbody tr th {\n",
       "        vertical-align: top;\n",
       "    }\n",
       "\n",
       "    .dataframe thead th {\n",
       "        text-align: right;\n",
       "    }\n",
       "</style>\n",
       "<table border=\"1\" class=\"dataframe\">\n",
       "  <thead>\n",
       "    <tr style=\"text-align: right;\">\n",
       "      <th></th>\n",
       "      <th>mean</th>\n",
       "    </tr>\n",
       "    <tr>\n",
       "      <th>state</th>\n",
       "      <th></th>\n",
       "    </tr>\n",
       "  </thead>\n",
       "  <tbody>\n",
       "    <tr>\n",
       "      <th>Alabama</th>\n",
       "      <td>765.872557</td>\n",
       "    </tr>\n",
       "    <tr>\n",
       "      <th>Alaska</th>\n",
       "      <td>1190.093590</td>\n",
       "    </tr>\n",
       "    <tr>\n",
       "      <th>Arizona</th>\n",
       "      <td>1084.510940</td>\n",
       "    </tr>\n",
       "    <tr>\n",
       "      <th>Arkansas</th>\n",
       "      <td>716.544987</td>\n",
       "    </tr>\n",
       "    <tr>\n",
       "      <th>California</th>\n",
       "      <td>1466.020465</td>\n",
       "    </tr>\n",
       "  </tbody>\n",
       "</table>\n",
       "</div>"
      ],
      "text/plain": [
       "                   mean\n",
       "state                  \n",
       "Alabama      765.872557\n",
       "Alaska      1190.093590\n",
       "Arizona     1084.510940\n",
       "Arkansas     716.544987\n",
       "California  1466.020465"
      ]
     },
     "execution_count": 42,
     "metadata": {},
     "output_type": "execute_result"
    }
   ],
   "source": [
    "rent_state_mean = df_combined.groupby(by='state')['rent_mean'].agg([\"mean\"])\n",
    "rent_state_mean.head()"
   ]
  },
  {
   "cell_type": "code",
   "execution_count": 43,
   "id": "b485730b-480a-4dbd-874b-a049e174a614",
   "metadata": {},
   "outputs": [
    {
     "data": {
      "text/html": [
       "<div>\n",
       "<style scoped>\n",
       "    .dataframe tbody tr th:only-of-type {\n",
       "        vertical-align: middle;\n",
       "    }\n",
       "\n",
       "    .dataframe tbody tr th {\n",
       "        vertical-align: top;\n",
       "    }\n",
       "\n",
       "    .dataframe thead th {\n",
       "        text-align: right;\n",
       "    }\n",
       "</style>\n",
       "<table border=\"1\" class=\"dataframe\">\n",
       "  <thead>\n",
       "    <tr style=\"text-align: right;\">\n",
       "      <th></th>\n",
       "      <th>mean</th>\n",
       "    </tr>\n",
       "    <tr>\n",
       "      <th>state</th>\n",
       "      <th></th>\n",
       "    </tr>\n",
       "  </thead>\n",
       "  <tbody>\n",
       "    <tr>\n",
       "      <th>Alabama</th>\n",
       "      <td>65311.510962</td>\n",
       "    </tr>\n",
       "    <tr>\n",
       "      <th>Alaska</th>\n",
       "      <td>91911.137520</td>\n",
       "    </tr>\n",
       "    <tr>\n",
       "      <th>Arizona</th>\n",
       "      <td>73014.068487</td>\n",
       "    </tr>\n",
       "    <tr>\n",
       "      <th>Arkansas</th>\n",
       "      <td>64234.705963</td>\n",
       "    </tr>\n",
       "    <tr>\n",
       "      <th>California</th>\n",
       "      <td>87711.550734</td>\n",
       "    </tr>\n",
       "  </tbody>\n",
       "</table>\n",
       "</div>"
      ],
      "text/plain": [
       "                    mean\n",
       "state                   \n",
       "Alabama     65311.510962\n",
       "Alaska      91911.137520\n",
       "Arizona     73014.068487\n",
       "Arkansas    64234.705963\n",
       "California  87711.550734"
      ]
     },
     "execution_count": 43,
     "metadata": {},
     "output_type": "execute_result"
    }
   ],
   "source": [
    "income_state_mean=df_combined.groupby(by='state')['family_mean'].agg([\"mean\"])\n",
    "income_state_mean.head()"
   ]
  },
  {
   "cell_type": "code",
   "execution_count": 44,
   "id": "e330f272-1c26-46f4-b532-d8865dbb48d0",
   "metadata": {},
   "outputs": [
    {
     "data": {
      "text/plain": [
       "state\n",
       "Alabama                 1.172646\n",
       "Alaska                  1.294831\n",
       "Arizona                 1.485345\n",
       "Arkansas                1.115511\n",
       "California              1.671411\n",
       "Colorado                1.359697\n",
       "Connecticut             1.272141\n",
       "Delaware                1.311538\n",
       "District of Columbia    1.357450\n",
       "Florida                 1.576101\n",
       "Name: mean, dtype: float64"
      ]
     },
     "execution_count": 44,
     "metadata": {},
     "output_type": "execute_result"
    }
   ],
   "source": [
    "rent_perc_of_income=rent_state_mean['mean']/income_state_mean['mean']*100\n",
    "rent_perc_of_income.head(10)"
   ]
  },
  {
   "cell_type": "code",
   "execution_count": 45,
   "id": "27ed64a3-aa95-4c21-8aba-4492faaa9ed5",
   "metadata": {},
   "outputs": [
    {
     "data": {
      "text/plain": [
       "0.013351543786573208"
      ]
     },
     "execution_count": 45,
     "metadata": {},
     "output_type": "execute_result"
    }
   ],
   "source": [
    "sum(df_combined['rent_mean'])/sum(df_combined['family_mean'])\n"
   ]
  },
  {
   "cell_type": "markdown",
   "id": "e6b259e0-2b69-4f4b-a35e-57808d312e1a",
   "metadata": {},
   "source": [
    "4. Perform correlation analysis for all the relevant variables by creating a heatmap. Describe your findings."
   ]
  },
  {
   "cell_type": "code",
   "execution_count": 46,
   "id": "4e000c2d-3283-4f48-beb9-aac490077112",
   "metadata": {},
   "outputs": [
    {
     "data": {
      "text/plain": [
       "<AxesSubplot: >"
      ]
     },
     "execution_count": 46,
     "metadata": {},
     "output_type": "execute_result"
    },
    {
     "data": {
      "image/png": "[encoded data removed]",
      "text/plain": [
       "<Figure size 864x576 with 2 Axes>"
      ]
     },
     "metadata": {
      "needs_background": "light"
     },
     "output_type": "display_data"
    }
   ],
   "source": [
    "plt.figure(figsize=(12,8))\n",
    "sns.heatmap(data=df_combined[['hc_mortgage_mean','ALand','pop','rent_mean','hi_mean','hc_mean','family_mean',\n",
    "                           'hs_degree','debt','home_equity']].corr(),annot=True)"
   ]
  },
  {
   "cell_type": "code",
   "execution_count": 53,
   "id": "335ba874-7620-4620-a601-ef05bb0e8325",
   "metadata": {},
   "outputs": [],
   "source": [
    "train = df_combined[df_combined['split'] == 'Train']\n",
    "test = df_combined[df_combined['split'] == 'Test']"
   ]
  },
  {
   "cell_type": "markdown",
   "id": "9afa6829-9002-4e2d-b355-5d1bcd1d0717",
   "metadata": {},
   "source": [
    "Project Task: Week 3\n",
    "Data Pre-processing:\n",
    "\n",
    "The economic multivariate data has a significant number of measured variables. The goal is to find where the measured variables depend on a number of smaller unobserved common factors or latent variables.\n",
    "Each variable is assumed to be dependent upon a linear combination of the common factors, and the coefficients are known as loadings. Each measured variable also includes a component due to independent random variability, known as “specific variance” because it is specific to one variable. Obtain the common factors and then plot the loadings. Use factor analysis to find latent variables in our dataset and gain insight into the linear relationships in the data. Following are the list of latent variables:\n",
    "Highschool graduation rates\n",
    "Median population age\n",
    "Second mortgage statistics\n",
    "Percent own\n",
    "Bad debt expense"
   ]
  },
  {
   "cell_type": "code",
   "execution_count": 47,
   "id": "1a731b9f-b4cb-4f3a-a7f7-691b5aa0bf41",
   "metadata": {},
   "outputs": [
    {
     "name": "stdout",
     "output_type": "stream",
     "text": [
      "Collecting factor_analyzer\n",
      "  Downloading factor_analyzer-0.4.1.tar.gz (41 kB)\n",
      "  Installing build dependencies: started\n",
      "  Installing build dependencies: finished with status 'done'\n",
      "  Getting requirements to build wheel: started\n",
      "  Getting requirements to build wheel: finished with status 'done'\n",
      "    Preparing wheel metadata: started\n",
      "    Preparing wheel metadata: finished with status 'done'\n",
      "Collecting pre-commit\n",
      "  Downloading pre_commit-3.3.2-py2.py3-none-any.whl (202 kB)\n",
      "Requirement already satisfied: numpy in c:\\users\\91762\\anaconda3\\anaconda\\lib\\site-packages (from factor_analyzer) (1.21.5)\n",
      "Requirement already satisfied: scipy in c:\\users\\91762\\anaconda3\\anaconda\\lib\\site-packages (from factor_analyzer) (1.9.3)\n",
      "Requirement already satisfied: scikit-learn in c:\\users\\91762\\anaconda3\\anaconda\\lib\\site-packages (from factor_analyzer) (1.0.2)\n",
      "Requirement already satisfied: pandas in c:\\users\\91762\\anaconda3\\anaconda\\lib\\site-packages (from factor_analyzer) (1.4.2)\n",
      "Requirement already satisfied: pytz>=2020.1 in c:\\users\\91762\\anaconda3\\anaconda\\lib\\site-packages (from pandas->factor_analyzer) (2021.3)\n",
      "Requirement already satisfied: python-dateutil>=2.8.1 in c:\\users\\91762\\anaconda3\\anaconda\\lib\\site-packages (from pandas->factor_analyzer) (2.8.2)\n",
      "Requirement already satisfied: six>=1.5 in c:\\users\\91762\\anaconda3\\anaconda\\lib\\site-packages (from python-dateutil>=2.8.1->pandas->factor_analyzer) (1.16.0)\n",
      "Collecting nodeenv>=0.11.1\n",
      "  Downloading nodeenv-1.8.0-py2.py3-none-any.whl (22 kB)\n",
      "Collecting identify>=1.0.0\n",
      "  Downloading identify-2.5.24-py2.py3-none-any.whl (98 kB)\n",
      "Collecting cfgv>=2.0.0\n",
      "  Downloading cfgv-3.3.1-py2.py3-none-any.whl (7.3 kB)\n",
      "Collecting virtualenv>=20.10.0\n",
      "  Downloading virtualenv-20.23.0-py3-none-any.whl (3.3 MB)\n",
      "Requirement already satisfied: pyyaml>=5.1 in c:\\users\\91762\\anaconda3\\anaconda\\lib\\site-packages (from pre-commit->factor_analyzer) (6.0)\n",
      "Requirement already satisfied: setuptools in c:\\users\\91762\\anaconda3\\anaconda\\lib\\site-packages (from nodeenv>=0.11.1->pre-commit->factor_analyzer) (61.2.0)\n",
      "Collecting filelock<4,>=3.11\n",
      "  Downloading filelock-3.12.0-py3-none-any.whl (10 kB)\n",
      "Collecting platformdirs<4,>=3.2\n",
      "  Downloading platformdirs-3.5.1-py3-none-any.whl (15 kB)\n",
      "Collecting distlib<1,>=0.3.6\n",
      "  Downloading distlib-0.3.6-py2.py3-none-any.whl (468 kB)\n",
      "Requirement already satisfied: joblib>=0.11 in c:\\users\\91762\\anaconda3\\anaconda\\lib\\site-packages (from scikit-learn->factor_analyzer) (1.1.0)\n",
      "Requirement already satisfied: threadpoolctl>=2.0.0 in c:\\users\\91762\\anaconda3\\anaconda\\lib\\site-packages (from scikit-learn->factor_analyzer) (2.2.0)\n",
      "Building wheels for collected packages: factor-analyzer\n",
      "  Building wheel for factor-analyzer (PEP 517): started\n",
      "  Building wheel for factor-analyzer (PEP 517): finished with status 'done'\n",
      "  Created wheel for factor-analyzer: filename=factor_analyzer-0.4.1-py2.py3-none-any.whl size=42071 sha256=5f5a8a836546258c5a5ce04e1a4e8917448dfcbf0537ba13dc41a2cc86a1e226\n",
      "  Stored in directory: c:\\users\\91762\\appdata\\local\\pip\\cache\\wheels\\6d\\32\\bd\\460a71becd83f7d77152f437c2fd451f5c87bc19cfcdbfcd24\n",
      "Successfully built factor-analyzer\n",
      "Installing collected packages: platformdirs, filelock, distlib, virtualenv, nodeenv, identify, cfgv, pre-commit, factor-analyzer\n",
      "  Attempting uninstall: filelock\n",
      "    Found existing installation: filelock 3.6.0\n",
      "    Uninstalling filelock-3.6.0:\n",
      "      Successfully uninstalled filelock-3.6.0\n",
      "Successfully installed cfgv-3.3.1 distlib-0.3.6 factor-analyzer-0.4.1 filelock-3.12.0 identify-2.5.24 nodeenv-1.8.0 platformdirs-3.5.1 pre-commit-3.3.2 virtualenv-20.23.0\n"
     ]
    }
   ],
   "source": [
    "!pip install factor_analyzer"
   ]
  },
  {
   "cell_type": "code",
   "execution_count": 48,
   "id": "0011aa01-ca22-4c46-af82-e84f8ccdeb78",
   "metadata": {},
   "outputs": [],
   "source": [
    "import numpy as np\n",
    "from sklearn.decomposition import FactorAnalysis\n",
    "from factor_analyzer import FactorAnalyzer"
   ]
  },
  {
   "cell_type": "code",
   "execution_count": 49,
   "id": "3d7cb790-30dc-4cf2-9f23-56d9e9a748a7",
   "metadata": {},
   "outputs": [
    {
     "data": {
      "text/html": [
       "<div>\n",
       "<style scoped>\n",
       "    .dataframe tbody tr th:only-of-type {\n",
       "        vertical-align: middle;\n",
       "    }\n",
       "\n",
       "    .dataframe tbody tr th {\n",
       "        vertical-align: top;\n",
       "    }\n",
       "\n",
       "    .dataframe thead th {\n",
       "        text-align: right;\n",
       "    }\n",
       "</style>\n",
       "<table border=\"1\" class=\"dataframe\">\n",
       "  <thead>\n",
       "    <tr style=\"text-align: right;\">\n",
       "      <th></th>\n",
       "      <th>count</th>\n",
       "      <th>mean</th>\n",
       "      <th>std</th>\n",
       "      <th>min</th>\n",
       "      <th>25%</th>\n",
       "      <th>50%</th>\n",
       "      <th>75%</th>\n",
       "      <th>max</th>\n",
       "    </tr>\n",
       "  </thead>\n",
       "  <tbody>\n",
       "    <tr>\n",
       "      <th>UID</th>\n",
       "      <td>27321.0</td>\n",
       "      <td>257331.996303</td>\n",
       "      <td>21343.859725</td>\n",
       "      <td>220342.0</td>\n",
       "      <td>238816.000000</td>\n",
       "      <td>257220.000000</td>\n",
       "      <td>275818.000000</td>\n",
       "      <td>294334.00000</td>\n",
       "    </tr>\n",
       "    <tr>\n",
       "      <th>BLOCKID</th>\n",
       "      <td>0.0</td>\n",
       "      <td>NaN</td>\n",
       "      <td>NaN</td>\n",
       "      <td>NaN</td>\n",
       "      <td>NaN</td>\n",
       "      <td>NaN</td>\n",
       "      <td>NaN</td>\n",
       "      <td>NaN</td>\n",
       "    </tr>\n",
       "    <tr>\n",
       "      <th>SUMLEVEL</th>\n",
       "      <td>27321.0</td>\n",
       "      <td>140.000000</td>\n",
       "      <td>0.000000</td>\n",
       "      <td>140.0</td>\n",
       "      <td>140.000000</td>\n",
       "      <td>140.000000</td>\n",
       "      <td>140.000000</td>\n",
       "      <td>140.00000</td>\n",
       "    </tr>\n",
       "    <tr>\n",
       "      <th>COUNTYID</th>\n",
       "      <td>27321.0</td>\n",
       "      <td>85.646426</td>\n",
       "      <td>98.333097</td>\n",
       "      <td>1.0</td>\n",
       "      <td>29.000000</td>\n",
       "      <td>63.000000</td>\n",
       "      <td>109.000000</td>\n",
       "      <td>840.00000</td>\n",
       "    </tr>\n",
       "    <tr>\n",
       "      <th>STATEID</th>\n",
       "      <td>27321.0</td>\n",
       "      <td>28.271806</td>\n",
       "      <td>16.392846</td>\n",
       "      <td>1.0</td>\n",
       "      <td>13.000000</td>\n",
       "      <td>28.000000</td>\n",
       "      <td>42.000000</td>\n",
       "      <td>72.00000</td>\n",
       "    </tr>\n",
       "    <tr>\n",
       "      <th>...</th>\n",
       "      <td>...</td>\n",
       "      <td>...</td>\n",
       "      <td>...</td>\n",
       "      <td>...</td>\n",
       "      <td>...</td>\n",
       "      <td>...</td>\n",
       "      <td>...</td>\n",
       "      <td>...</td>\n",
       "    </tr>\n",
       "    <tr>\n",
       "      <th>pct_own</th>\n",
       "      <td>27053.0</td>\n",
       "      <td>0.640434</td>\n",
       "      <td>0.226640</td>\n",
       "      <td>0.0</td>\n",
       "      <td>0.502780</td>\n",
       "      <td>0.690840</td>\n",
       "      <td>0.817460</td>\n",
       "      <td>1.00000</td>\n",
       "    </tr>\n",
       "    <tr>\n",
       "      <th>married</th>\n",
       "      <td>27130.0</td>\n",
       "      <td>0.508300</td>\n",
       "      <td>0.136860</td>\n",
       "      <td>0.0</td>\n",
       "      <td>0.425102</td>\n",
       "      <td>0.526665</td>\n",
       "      <td>0.605760</td>\n",
       "      <td>1.00000</td>\n",
       "    </tr>\n",
       "    <tr>\n",
       "      <th>married_snp</th>\n",
       "      <td>27130.0</td>\n",
       "      <td>0.047537</td>\n",
       "      <td>0.037640</td>\n",
       "      <td>0.0</td>\n",
       "      <td>0.020810</td>\n",
       "      <td>0.038840</td>\n",
       "      <td>0.065100</td>\n",
       "      <td>0.71429</td>\n",
       "    </tr>\n",
       "    <tr>\n",
       "      <th>separated</th>\n",
       "      <td>27130.0</td>\n",
       "      <td>0.019089</td>\n",
       "      <td>0.020796</td>\n",
       "      <td>0.0</td>\n",
       "      <td>0.004530</td>\n",
       "      <td>0.013460</td>\n",
       "      <td>0.027488</td>\n",
       "      <td>0.71429</td>\n",
       "    </tr>\n",
       "    <tr>\n",
       "      <th>divorced</th>\n",
       "      <td>27130.0</td>\n",
       "      <td>0.100248</td>\n",
       "      <td>0.049055</td>\n",
       "      <td>0.0</td>\n",
       "      <td>0.065800</td>\n",
       "      <td>0.095205</td>\n",
       "      <td>0.129000</td>\n",
       "      <td>1.00000</td>\n",
       "    </tr>\n",
       "  </tbody>\n",
       "</table>\n",
       "<p>74 rows × 8 columns</p>\n",
       "</div>"
      ],
      "text/plain": [
       "               count           mean           std       min            25%  \\\n",
       "UID          27321.0  257331.996303  21343.859725  220342.0  238816.000000   \n",
       "BLOCKID          0.0            NaN           NaN       NaN            NaN   \n",
       "SUMLEVEL     27321.0     140.000000      0.000000     140.0     140.000000   \n",
       "COUNTYID     27321.0      85.646426     98.333097       1.0      29.000000   \n",
       "STATEID      27321.0      28.271806     16.392846       1.0      13.000000   \n",
       "...              ...            ...           ...       ...            ...   \n",
       "pct_own      27053.0       0.640434      0.226640       0.0       0.502780   \n",
       "married      27130.0       0.508300      0.136860       0.0       0.425102   \n",
       "married_snp  27130.0       0.047537      0.037640       0.0       0.020810   \n",
       "separated    27130.0       0.019089      0.020796       0.0       0.004530   \n",
       "divorced     27130.0       0.100248      0.049055       0.0       0.065800   \n",
       "\n",
       "                       50%            75%           max  \n",
       "UID          257220.000000  275818.000000  294334.00000  \n",
       "BLOCKID                NaN            NaN           NaN  \n",
       "SUMLEVEL        140.000000     140.000000     140.00000  \n",
       "COUNTYID         63.000000     109.000000     840.00000  \n",
       "STATEID          28.000000      42.000000      72.00000  \n",
       "...                    ...            ...           ...  \n",
       "pct_own           0.690840       0.817460       1.00000  \n",
       "married           0.526665       0.605760       1.00000  \n",
       "married_snp       0.038840       0.065100       0.71429  \n",
       "separated         0.013460       0.027488       0.71429  \n",
       "divorced          0.095205       0.129000       1.00000  \n",
       "\n",
       "[74 rows x 8 columns]"
      ]
     },
     "execution_count": 49,
     "metadata": {},
     "output_type": "execute_result"
    }
   ],
   "source": [
    "df_train.describe().T\n"
   ]
  },
  {
   "cell_type": "markdown",
   "id": "aceebf8d-16aa-479e-8ad5-5f871511de87",
   "metadata": {},
   "source": [
    "Project Task: Week 4\n",
    "Data Modeling :\n",
    "\n",
    "Build a linear Regression model to predict the total monthly expenditure for home mortgages loan. Please refer ‘deplotment_RE.xlsx’. Column hc_mortgage_mean is predicted variable. This is the mean monthly mortgage and owner costs of specified geographical location. Note: Exclude loans from prediction model which have NaN (Not a Number) values for hc_mortgage_mean.\n",
    "a. Run a model at a Nation level. If the accuracy levels and R square are not satisfactory proceed to below step. b. Run another model at State level. There are 52 states in USA. c. Keep below considerations while building a linear regression model. Data Modeling :\n",
    "Variables should have significant impact on predicting Monthly mortgage and owner costs\n",
    "Utilize all predictor variable to start with initial hypothesis\n",
    "R square of 60 percent and above should be achieved\n",
    "Ensure Multi-collinearity does not exist in dependent variables\n",
    "Test if predicted variable is normally distributed"
   ]
  },
  {
   "cell_type": "code",
   "execution_count": 54,
   "id": "40059cd3-d067-411f-91e0-88aa2fb6a3c8",
   "metadata": {},
   "outputs": [
    {
     "data": {
      "text/plain": [
       "Index(['UID', 'SUMLEVEL', 'COUNTYID', 'STATEID', 'state', 'state_ab', 'city',\n",
       "       'place', 'type', 'primary', 'zip_code', 'area_code', 'lat', 'lng',\n",
       "       'ALand', 'AWater', 'pop', 'male_pop', 'female_pop', 'rent_mean',\n",
       "       'rent_median', 'rent_stdev', 'rent_sample_weight', 'rent_samples',\n",
       "       'rent_gt_10', 'rent_gt_15', 'rent_gt_20', 'rent_gt_25', 'rent_gt_30',\n",
       "       'rent_gt_35', 'rent_gt_40', 'rent_gt_50', 'universe_samples',\n",
       "       'used_samples', 'hi_mean', 'hi_median', 'hi_stdev', 'hi_sample_weight',\n",
       "       'hi_samples', 'family_mean', 'family_median', 'family_stdev',\n",
       "       'family_sample_weight', 'family_samples', 'hc_mortgage_mean',\n",
       "       'hc_mortgage_median', 'hc_mortgage_stdev', 'hc_mortgage_sample_weight',\n",
       "       'hc_mortgage_samples', 'hc_mean', 'hc_median', 'hc_stdev', 'hc_samples',\n",
       "       'hc_sample_weight', 'home_equity_second_mortgage', 'second_mortgage',\n",
       "       'home_equity', 'debt', 'second_mortgage_cdf', 'home_equity_cdf',\n",
       "       'debt_cdf', 'hs_degree', 'hs_degree_male', 'hs_degree_female',\n",
       "       'male_age_mean', 'male_age_median', 'male_age_stdev',\n",
       "       'male_age_sample_weight', 'male_age_samples', 'female_age_mean',\n",
       "       'female_age_median', 'female_age_stdev', 'female_age_sample_weight',\n",
       "       'female_age_samples', 'pct_own', 'married', 'married_snp', 'separated',\n",
       "       'divorced', 'split', 'bad_debt', 'good_debt', 'population_density',\n",
       "       'median_age', 'pop_bins'],\n",
       "      dtype='object')"
      ]
     },
     "execution_count": 54,
     "metadata": {},
     "output_type": "execute_result"
    }
   ],
   "source": [
    "train.columns\n"
   ]
  },
  {
   "cell_type": "code",
   "execution_count": 55,
   "id": "26bb1eae-0c32-4a9d-b482-a40b342aae23",
   "metadata": {},
   "outputs": [
    {
     "data": {
      "text/plain": [
       "array(['City', 'Urban', 'Town', 'CDP', 'Village', 'Borough'], dtype=object)"
      ]
     },
     "execution_count": 55,
     "metadata": {},
     "output_type": "execute_result"
    }
   ],
   "source": [
    "train['type'].unique()\n"
   ]
  },
  {
   "cell_type": "code",
   "execution_count": 56,
   "id": "6ee607fb-9e84-4511-afbe-afc0685118fc",
   "metadata": {},
   "outputs": [],
   "source": [
    "type_dict={'type':{'City':1, 'Urban':2, 'Town':3, 'CDP':4, 'Village':5, 'Borough':6}}\n",
    "train.replace(type_dict,inplace=True)"
   ]
  },
  {
   "cell_type": "code",
   "execution_count": 57,
   "id": "4d35c8b0-ef8e-40ea-b442-3de5a222e7d4",
   "metadata": {},
   "outputs": [],
   "source": [
    "test.replace(type_dict,inplace=True)\n"
   ]
  },
  {
   "cell_type": "code",
   "execution_count": 58,
   "id": "a8af6daa-3895-4c50-aba2-3c631714654a",
   "metadata": {},
   "outputs": [
    {
     "data": {
      "text/plain": [
       "array([1, 2, 3, 4, 5, 6], dtype=int64)"
      ]
     },
     "execution_count": 58,
     "metadata": {},
     "output_type": "execute_result"
    }
   ],
   "source": [
    "train['type'].unique()\n"
   ]
  },
  {
   "cell_type": "code",
   "execution_count": 59,
   "id": "f13ef178-0aa1-4f04-8a99-9f632d8b7861",
   "metadata": {},
   "outputs": [
    {
     "data": {
      "text/plain": [
       "array([4, 1, 6, 3, 5, 2], dtype=int64)"
      ]
     },
     "execution_count": 59,
     "metadata": {},
     "output_type": "execute_result"
    }
   ],
   "source": [
    "test['type'].unique()\n"
   ]
  },
  {
   "cell_type": "code",
   "execution_count": 60,
   "id": "39969dec-c15a-489f-ac5c-ce2343c80370",
   "metadata": {},
   "outputs": [],
   "source": [
    "feature_cols=['COUNTYID','STATEID','zip_code','type','pop', 'family_mean','second_mortgage', 'home_equity', 'debt','hs_degree',\n",
    "              'pct_own', 'married','separated', 'divorced']"
   ]
  },
  {
   "cell_type": "code",
   "execution_count": 61,
   "id": "0ec19746-bfcf-4b35-8921-a50eda391a88",
   "metadata": {},
   "outputs": [],
   "source": [
    "X_train = train[feature_cols]\n",
    "y_train = train['hc_mortgage_mean']"
   ]
  },
  {
   "cell_type": "code",
   "execution_count": 62,
   "id": "319696b4-6433-4c6e-9196-aeb425d57221",
   "metadata": {},
   "outputs": [],
   "source": [
    "X_test = test[feature_cols]\n",
    "y_test = test['hc_mortgage_mean']"
   ]
  },
  {
   "cell_type": "code",
   "execution_count": 63,
   "id": "14641df4-1120-4ae4-a52a-35b36452d5d1",
   "metadata": {},
   "outputs": [],
   "source": [
    "from sklearn.preprocessing import StandardScaler\n",
    "from sklearn.linear_model import LinearRegression\n",
    "from sklearn.metrics import r2_score, mean_absolute_error,mean_squared_error,accuracy_score"
   ]
  },
  {
   "cell_type": "code",
   "execution_count": 64,
   "id": "9493b91a-a8f8-4f47-9e6b-2cb9843f837e",
   "metadata": {},
   "outputs": [
    {
     "data": {
      "text/html": [
       "<div>\n",
       "<style scoped>\n",
       "    .dataframe tbody tr th:only-of-type {\n",
       "        vertical-align: middle;\n",
       "    }\n",
       "\n",
       "    .dataframe tbody tr th {\n",
       "        vertical-align: top;\n",
       "    }\n",
       "\n",
       "    .dataframe thead th {\n",
       "        text-align: right;\n",
       "    }\n",
       "</style>\n",
       "<table border=\"1\" class=\"dataframe\">\n",
       "  <thead>\n",
       "    <tr style=\"text-align: right;\">\n",
       "      <th></th>\n",
       "      <th>COUNTYID</th>\n",
       "      <th>STATEID</th>\n",
       "      <th>zip_code</th>\n",
       "      <th>type</th>\n",
       "      <th>pop</th>\n",
       "      <th>family_mean</th>\n",
       "      <th>second_mortgage</th>\n",
       "      <th>home_equity</th>\n",
       "      <th>debt</th>\n",
       "      <th>hs_degree</th>\n",
       "      <th>pct_own</th>\n",
       "      <th>married</th>\n",
       "      <th>separated</th>\n",
       "      <th>divorced</th>\n",
       "    </tr>\n",
       "  </thead>\n",
       "  <tbody>\n",
       "    <tr>\n",
       "      <th>0</th>\n",
       "      <td>53</td>\n",
       "      <td>36</td>\n",
       "      <td>13346</td>\n",
       "      <td>1</td>\n",
       "      <td>5230</td>\n",
       "      <td>67994.14790</td>\n",
       "      <td>0.02077</td>\n",
       "      <td>0.08919</td>\n",
       "      <td>0.52963</td>\n",
       "      <td>0.89288</td>\n",
       "      <td>0.79046</td>\n",
       "      <td>0.57851</td>\n",
       "      <td>0.01240</td>\n",
       "      <td>0.08770</td>\n",
       "    </tr>\n",
       "    <tr>\n",
       "      <th>1</th>\n",
       "      <td>141</td>\n",
       "      <td>18</td>\n",
       "      <td>46616</td>\n",
       "      <td>1</td>\n",
       "      <td>2633</td>\n",
       "      <td>50670.10337</td>\n",
       "      <td>0.02222</td>\n",
       "      <td>0.04274</td>\n",
       "      <td>0.60855</td>\n",
       "      <td>0.90487</td>\n",
       "      <td>0.52483</td>\n",
       "      <td>0.34886</td>\n",
       "      <td>0.01426</td>\n",
       "      <td>0.09030</td>\n",
       "    </tr>\n",
       "    <tr>\n",
       "      <th>2</th>\n",
       "      <td>63</td>\n",
       "      <td>18</td>\n",
       "      <td>46122</td>\n",
       "      <td>1</td>\n",
       "      <td>6881</td>\n",
       "      <td>95262.51431</td>\n",
       "      <td>0.00000</td>\n",
       "      <td>0.09512</td>\n",
       "      <td>0.73484</td>\n",
       "      <td>0.94288</td>\n",
       "      <td>0.85331</td>\n",
       "      <td>0.64745</td>\n",
       "      <td>0.01607</td>\n",
       "      <td>0.10657</td>\n",
       "    </tr>\n",
       "    <tr>\n",
       "      <th>3</th>\n",
       "      <td>127</td>\n",
       "      <td>72</td>\n",
       "      <td>927</td>\n",
       "      <td>2</td>\n",
       "      <td>2700</td>\n",
       "      <td>56401.68133</td>\n",
       "      <td>0.01086</td>\n",
       "      <td>0.01086</td>\n",
       "      <td>0.52714</td>\n",
       "      <td>0.91500</td>\n",
       "      <td>0.65037</td>\n",
       "      <td>0.47257</td>\n",
       "      <td>0.02021</td>\n",
       "      <td>0.10106</td>\n",
       "    </tr>\n",
       "    <tr>\n",
       "      <th>4</th>\n",
       "      <td>161</td>\n",
       "      <td>20</td>\n",
       "      <td>66502</td>\n",
       "      <td>1</td>\n",
       "      <td>5637</td>\n",
       "      <td>54053.42396</td>\n",
       "      <td>0.05426</td>\n",
       "      <td>0.05426</td>\n",
       "      <td>0.51938</td>\n",
       "      <td>1.00000</td>\n",
       "      <td>0.13046</td>\n",
       "      <td>0.12356</td>\n",
       "      <td>0.00000</td>\n",
       "      <td>0.03109</td>\n",
       "    </tr>\n",
       "  </tbody>\n",
       "</table>\n",
       "</div>"
      ],
      "text/plain": [
       "   COUNTYID  STATEID  zip_code  type   pop  family_mean  second_mortgage  \\\n",
       "0        53       36     13346     1  5230  67994.14790          0.02077   \n",
       "1       141       18     46616     1  2633  50670.10337          0.02222   \n",
       "2        63       18     46122     1  6881  95262.51431          0.00000   \n",
       "3       127       72       927     2  2700  56401.68133          0.01086   \n",
       "4       161       20     66502     1  5637  54053.42396          0.05426   \n",
       "\n",
       "   home_equity     debt  hs_degree  pct_own  married  separated  divorced  \n",
       "0      0.08919  0.52963    0.89288  0.79046  0.57851    0.01240   0.08770  \n",
       "1      0.04274  0.60855    0.90487  0.52483  0.34886    0.01426   0.09030  \n",
       "2      0.09512  0.73484    0.94288  0.85331  0.64745    0.01607   0.10657  \n",
       "3      0.01086  0.52714    0.91500  0.65037  0.47257    0.02021   0.10106  \n",
       "4      0.05426  0.51938    1.00000  0.13046  0.12356    0.00000   0.03109  "
      ]
     },
     "execution_count": 64,
     "metadata": {},
     "output_type": "execute_result"
    }
   ],
   "source": [
    "X_train.head()"
   ]
  },
  {
   "cell_type": "code",
   "execution_count": 65,
   "id": "3eeec60e-7fdd-40fc-b068-5a17eb6fcc71",
   "metadata": {},
   "outputs": [
    {
     "data": {
      "text/html": [
       "<div>\n",
       "<style scoped>\n",
       "    .dataframe tbody tr th:only-of-type {\n",
       "        vertical-align: middle;\n",
       "    }\n",
       "\n",
       "    .dataframe tbody tr th {\n",
       "        vertical-align: top;\n",
       "    }\n",
       "\n",
       "    .dataframe thead th {\n",
       "        text-align: right;\n",
       "    }\n",
       "</style>\n",
       "<table border=\"1\" class=\"dataframe\">\n",
       "  <thead>\n",
       "    <tr style=\"text-align: right;\">\n",
       "      <th></th>\n",
       "      <th>COUNTYID</th>\n",
       "      <th>STATEID</th>\n",
       "      <th>zip_code</th>\n",
       "      <th>type</th>\n",
       "      <th>pop</th>\n",
       "      <th>family_mean</th>\n",
       "      <th>second_mortgage</th>\n",
       "      <th>home_equity</th>\n",
       "      <th>debt</th>\n",
       "      <th>hs_degree</th>\n",
       "      <th>pct_own</th>\n",
       "      <th>married</th>\n",
       "      <th>separated</th>\n",
       "      <th>divorced</th>\n",
       "    </tr>\n",
       "  </thead>\n",
       "  <tbody>\n",
       "    <tr>\n",
       "      <th>27321</th>\n",
       "      <td>163</td>\n",
       "      <td>26</td>\n",
       "      <td>48239</td>\n",
       "      <td>4</td>\n",
       "      <td>3417</td>\n",
       "      <td>53802.87122</td>\n",
       "      <td>0.06443</td>\n",
       "      <td>0.07651</td>\n",
       "      <td>0.63624</td>\n",
       "      <td>0.91047</td>\n",
       "      <td>0.70252</td>\n",
       "      <td>0.28217</td>\n",
       "      <td>0.03813</td>\n",
       "      <td>0.14299</td>\n",
       "    </tr>\n",
       "    <tr>\n",
       "      <th>27322</th>\n",
       "      <td>1</td>\n",
       "      <td>23</td>\n",
       "      <td>4210</td>\n",
       "      <td>1</td>\n",
       "      <td>3796</td>\n",
       "      <td>85642.22095</td>\n",
       "      <td>0.01175</td>\n",
       "      <td>0.14375</td>\n",
       "      <td>0.64755</td>\n",
       "      <td>0.94290</td>\n",
       "      <td>0.85128</td>\n",
       "      <td>0.64221</td>\n",
       "      <td>0.00000</td>\n",
       "      <td>0.13377</td>\n",
       "    </tr>\n",
       "    <tr>\n",
       "      <th>27323</th>\n",
       "      <td>15</td>\n",
       "      <td>42</td>\n",
       "      <td>14871</td>\n",
       "      <td>6</td>\n",
       "      <td>3944</td>\n",
       "      <td>65694.06582</td>\n",
       "      <td>0.01316</td>\n",
       "      <td>0.06497</td>\n",
       "      <td>0.45395</td>\n",
       "      <td>0.89238</td>\n",
       "      <td>0.81897</td>\n",
       "      <td>0.59961</td>\n",
       "      <td>0.01358</td>\n",
       "      <td>0.10026</td>\n",
       "    </tr>\n",
       "    <tr>\n",
       "      <th>27324</th>\n",
       "      <td>231</td>\n",
       "      <td>21</td>\n",
       "      <td>42633</td>\n",
       "      <td>1</td>\n",
       "      <td>2508</td>\n",
       "      <td>44156.38709</td>\n",
       "      <td>0.00995</td>\n",
       "      <td>0.01741</td>\n",
       "      <td>0.41915</td>\n",
       "      <td>0.60908</td>\n",
       "      <td>0.84609</td>\n",
       "      <td>0.56953</td>\n",
       "      <td>0.04694</td>\n",
       "      <td>0.12489</td>\n",
       "    </tr>\n",
       "    <tr>\n",
       "      <th>27325</th>\n",
       "      <td>355</td>\n",
       "      <td>48</td>\n",
       "      <td>78410</td>\n",
       "      <td>3</td>\n",
       "      <td>6230</td>\n",
       "      <td>123527.02420</td>\n",
       "      <td>0.00000</td>\n",
       "      <td>0.03440</td>\n",
       "      <td>0.63188</td>\n",
       "      <td>0.86297</td>\n",
       "      <td>0.79077</td>\n",
       "      <td>0.57620</td>\n",
       "      <td>0.00588</td>\n",
       "      <td>0.16379</td>\n",
       "    </tr>\n",
       "  </tbody>\n",
       "</table>\n",
       "</div>"
      ],
      "text/plain": [
       "       COUNTYID  STATEID  zip_code  type   pop   family_mean  second_mortgage  \\\n",
       "27321       163       26     48239     4  3417   53802.87122          0.06443   \n",
       "27322         1       23      4210     1  3796   85642.22095          0.01175   \n",
       "27323        15       42     14871     6  3944   65694.06582          0.01316   \n",
       "27324       231       21     42633     1  2508   44156.38709          0.00995   \n",
       "27325       355       48     78410     3  6230  123527.02420          0.00000   \n",
       "\n",
       "       home_equity     debt  hs_degree  pct_own  married  separated  divorced  \n",
       "27321      0.07651  0.63624    0.91047  0.70252  0.28217    0.03813   0.14299  \n",
       "27322      0.14375  0.64755    0.94290  0.85128  0.64221    0.00000   0.13377  \n",
       "27323      0.06497  0.45395    0.89238  0.81897  0.59961    0.01358   0.10026  \n",
       "27324      0.01741  0.41915    0.60908  0.84609  0.56953    0.04694   0.12489  \n",
       "27325      0.03440  0.63188    0.86297  0.79077  0.57620    0.00588   0.16379  "
      ]
     },
     "execution_count": 65,
     "metadata": {},
     "output_type": "execute_result"
    }
   ],
   "source": [
    "X_test.head()"
   ]
  },
  {
   "cell_type": "code",
   "execution_count": 66,
   "id": "b11aa588-a904-40c8-bdb0-e0cf3915c160",
   "metadata": {},
   "outputs": [],
   "source": [
    "sc = StandardScaler()\n",
    "X_train_scaled = sc.fit_transform(X_train)\n",
    "X_test_scaled = sc.fit_transform(X_test)"
   ]
  },
  {
   "cell_type": "markdown",
   "id": "41de2f48-4125-4548-98cd-f7e020be7fbb",
   "metadata": {},
   "source": [
    "a. Run a model at a Nation level. If the accuracy levels and R square are not satisfactory proceed to below step.\n"
   ]
  },
  {
   "cell_type": "code",
   "execution_count": 67,
   "id": "43a440d7-0886-4f4b-97c5-22dcd0798e2f",
   "metadata": {},
   "outputs": [
    {
     "data": {
      "text/plain": [
       "LinearRegression()"
      ]
     },
     "execution_count": 67,
     "metadata": {},
     "output_type": "execute_result"
    }
   ],
   "source": [
    "lr = LinearRegression()\n",
    "lr.fit(X_train_scaled, y_train)"
   ]
  },
  {
   "cell_type": "code",
   "execution_count": 68,
   "id": "00d3e7b8-d88e-4909-9321-3effe2faad59",
   "metadata": {},
   "outputs": [],
   "source": [
    "y_pred= lr.predict(X_test_scaled)"
   ]
  },
  {
   "cell_type": "code",
   "execution_count": 69,
   "id": "49a4a60e-1678-4a2b-b457-928590cfb4e4",
   "metadata": {},
   "outputs": [
    {
     "data": {
      "text/plain": [
       "0.7381882934134452"
      ]
     },
     "execution_count": 69,
     "metadata": {},
     "output_type": "execute_result"
    }
   ],
   "source": [
    "r2_score(y_test,y_pred)\n"
   ]
  },
  {
   "cell_type": "code",
   "execution_count": 70,
   "id": "84380d5d-988f-4037-ad99-447c17747220",
   "metadata": {},
   "outputs": [
    {
     "data": {
      "text/plain": [
       "233.86965694140085"
      ]
     },
     "execution_count": 70,
     "metadata": {},
     "output_type": "execute_result"
    }
   ],
   "source": [
    "mean_absolute_error(y_test, y_pred)\n"
   ]
  },
  {
   "cell_type": "code",
   "execution_count": 71,
   "id": "18458fb6-2e60-4bd3-b353-9c77918ddebb",
   "metadata": {},
   "outputs": [
    {
     "data": {
      "text/plain": [
       "103818.40486733473"
      ]
     },
     "execution_count": 71,
     "metadata": {},
     "output_type": "execute_result"
    }
   ],
   "source": [
    "mean_squared_error(y_test, y_pred) \n"
   ]
  },
  {
   "cell_type": "code",
   "execution_count": 72,
   "id": "493f8489-f016-4b24-a146-be74c17d4912",
   "metadata": {},
   "outputs": [
    {
     "data": {
      "text/plain": [
       "322.20863561880947"
      ]
     },
     "execution_count": 72,
     "metadata": {},
     "output_type": "execute_result"
    }
   ],
   "source": [
    "np.sqrt(mean_squared_error(y_test,y_pred))\n"
   ]
  },
  {
   "cell_type": "code",
   "execution_count": 73,
   "id": "f243de12-7f64-4b73-b28e-267fe58f30c2",
   "metadata": {},
   "outputs": [
    {
     "data": {
      "text/plain": [
       "0.734344756627955"
      ]
     },
     "execution_count": 73,
     "metadata": {},
     "output_type": "execute_result"
    }
   ],
   "source": [
    "r2_score(y_train, lr.predict(X_train_scaled))\n"
   ]
  },
  {
   "cell_type": "code",
   "execution_count": 74,
   "id": "992aed17-192a-4a9d-a460-b56edc218129",
   "metadata": {},
   "outputs": [
    {
     "data": {
      "text/plain": [
       "array([ -28.50842455,  -21.7100607 ,  -22.98370175,  -57.43101333,\n",
       "         -4.78426374,  558.7402445 ,   -0.55955638,   70.89657588,\n",
       "         12.81271881, -113.18431746, -176.51983734,    8.10645154,\n",
       "          5.24214879,  -55.79637445])"
      ]
     },
     "execution_count": 74,
     "metadata": {},
     "output_type": "execute_result"
    }
   ],
   "source": [
    "lr.coef_\n"
   ]
  },
  {
   "cell_type": "code",
   "execution_count": 75,
   "id": "60624668-9c6a-4c26-a0a5-ad1a830747e9",
   "metadata": {},
   "outputs": [
    {
     "data": {
      "text/plain": [
       "Index(['COUNTYID', 'STATEID', 'zip_code', 'type', 'pop', 'family_mean',\n",
       "       'second_mortgage', 'home_equity', 'debt', 'hs_degree', 'pct_own',\n",
       "       'married', 'separated', 'divorced'],\n",
       "      dtype='object')"
      ]
     },
     "execution_count": 75,
     "metadata": {},
     "output_type": "execute_result"
    }
   ],
   "source": [
    "X_train.columns\n"
   ]
  },
  {
   "cell_type": "markdown",
   "id": "7fee125b-b143-43bd-a373-e38f386c3a0f",
   "metadata": {},
   "source": [
    "b. Run another model at State level. There are 52 states in USA."
   ]
  },
  {
   "cell_type": "code",
   "execution_count": 76,
   "id": "452e0f92-4542-44db-a6c4-940ec1433f5f",
   "metadata": {},
   "outputs": [
    {
     "data": {
      "text/plain": [
       "array([36, 18, 72, 20,  1, 48, 45,  6,  5, 24, 17, 19, 47, 32, 22,  8, 44,\n",
       "       28, 34, 41,  4, 12, 55, 42, 37, 51, 26, 39, 40, 13, 16, 46, 27, 29,\n",
       "       53, 56,  9, 54, 21, 25, 11, 15, 30,  2, 33, 49, 50, 31, 38, 35, 23,\n",
       "       10], dtype=int64)"
      ]
     },
     "execution_count": 76,
     "metadata": {},
     "output_type": "execute_result"
    }
   ],
   "source": [
    "state = train['STATEID'].unique()\n",
    "state"
   ]
  },
  {
   "cell_type": "code",
   "execution_count": 77,
   "id": "94c9f723-14a4-4391-88bc-b60a49470857",
   "metadata": {},
   "outputs": [
    {
     "name": "stdout",
     "output_type": "stream",
     "text": [
      "State ID- 11\n",
      "Overall R2 score of linear regression model for state, 11 :- 0.7458953509562303\n",
      "Overall RMSE of linear regression model for state, 11 :- 238.52276788095125\n",
      "\n",
      "\n",
      "State ID- 1\n",
      "Overall R2 score of linear regression model for state, 1 :- 0.8086161640279984\n",
      "Overall RMSE of linear regression model for state, 1 :- 311.532907203562\n",
      "\n",
      "\n",
      "State ID- 29\n",
      "Overall R2 score of linear regression model for state, 29 :- 0.7090032526359473\n",
      "Overall RMSE of linear regression model for state, 29 :- 270.06841264277546\n",
      "\n",
      "\n"
     ]
    }
   ],
   "source": [
    "for i in [11,1,29]:\n",
    "    print(\"State ID-\",i)\n",
    "    \n",
    "    X_train_nation = train[train['COUNTYID'] == i][feature_cols]\n",
    "    y_train_nation = train[train['COUNTYID'] == i]['hc_mortgage_mean']\n",
    "    \n",
    "    X_test_nation = test[test['COUNTYID'] == i][feature_cols]\n",
    "    y_test_nation = test[test['COUNTYID'] == i]['hc_mortgage_mean']\n",
    "    \n",
    "    X_train_scaled_nation = sc.fit_transform(X_train_nation)\n",
    "    X_test_scaled_nation = sc.fit_transform(X_test_nation)\n",
    "    \n",
    "    lr.fit(X_train_scaled_nation,y_train_nation)\n",
    "    y_pred_nation = lr.predict(X_test_scaled_nation)\n",
    "    \n",
    "    print(\"Overall R2 score of linear regression model for state,\",i,\":-\" ,r2_score(y_test_nation,y_pred_nation))\n",
    "    print(\"Overall RMSE of linear regression model for state,\",i,\":-\" ,np.sqrt(mean_squared_error(y_test_nation,y_pred_nation)))\n",
    "    print(\"\\n\")"
   ]
  },
  {
   "cell_type": "code",
   "execution_count": 78,
   "id": "945f61ce-09a2-45f2-915e-4f0418408d21",
   "metadata": {},
   "outputs": [
    {
     "data": {
      "image/png": "[encoded data removed]",
      "text/plain": [
       "<Figure size 432x288 with 1 Axes>"
      ]
     },
     "metadata": {
      "needs_background": "light"
     },
     "output_type": "display_data"
    }
   ],
   "source": [
    "sns.distplot(y_pred)\n",
    "plt.show()"
   ]
  },
  {
   "cell_type": "code",
   "execution_count": null,
   "id": "cd5958fe-0e91-43b9-b57e-1999a5d315a3",
   "metadata": {},
   "outputs": [],
   "source": []
  }
 ],
 "metadata": {
  "kernelspec": {
   "display_name": "Python 3 (ipykernel)",
   "language": "python",
   "name": "python3"
  },
  "language_info": {
   "codemirror_mode": {
    "name": "ipython",
    "version": 3
   },
   "file_extension": ".py",
   "mimetype": "text/x-python",
   "name": "python",
   "nbconvert_exporter": "python",
   "pygments_lexer": "ipython3",
   "version": "3.9.12"
  }
 },
 "nbformat": 4,
 "nbformat_minor": 5
}
